{
 "cells": [
  {
   "cell_type": "code",
   "execution_count": 1,
   "metadata": {},
   "outputs": [],
   "source": [
    "import spacy\n",
    "import re\n",
    "from spacy.tokenizer import Tokenizer\n",
    "from collections import Counter\n",
    "from spacy import displacy\n",
    "from spacy.matcher import Matcher\n",
    "import textacy\n",
    "\n",
    "nlp = spacy.load(\"pl_core_news_sm\")"
   ]
  },
  {
   "cell_type": "markdown",
   "metadata": {},
   "source": [
    "How to Read a Text File"
   ]
  },
  {
   "cell_type": "code",
   "execution_count": 2,
   "metadata": {},
   "outputs": [
    {
     "name": "stdout",
     "output_type": "stream",
     "text": [
      "['Jestem', 'Emanuel', 'Kosowski']\n"
     ]
    }
   ],
   "source": [
    "file_name = 'introduction.txt'\n",
    "introduction_file_text = open(file_name).read()\n",
    "introduction_file_doc = nlp(introduction_file_text)\n",
    "# Extract tokens for the given doc\n",
    "print ([token.text for token in introduction_file_doc])"
   ]
  },
  {
   "cell_type": "markdown",
   "metadata": {},
   "source": [
    "Sentence Detection"
   ]
  },
  {
   "cell_type": "code",
   "execution_count": 12,
   "metadata": {},
   "outputs": [
    {
     "name": "stdout",
     "output_type": "stream",
     "text": [
      "3\n",
      "„Divide et impera!”\n",
      ": dziel, a będziesz rządził; dziel a staniesz się bogaty; dziel a oszukasz ludzi, zaślepisz ich rozum, drwić będziesz ze sprawiedliwości.\n",
      "Sprawiedliwość i władza – słowa nie do pogodzenia.\n"
     ]
    }
   ],
   "source": [
    "about_text=('„Divide et impera!”: dziel, a będziesz rządził; dziel a staniesz się bogaty; dziel a oszukasz ludzi, zaślepisz ich rozum, drwić będziesz ze sprawiedliwości. Sprawiedliwość i władza – słowa nie do pogodzenia.')\n",
    "about_doc = nlp(about_text)\n",
    "sentences = list(about_doc.sents)\n",
    "print(len(sentences))\n",
    "for sentence in sentences:\n",
    "    print(sentence)"
   ]
  },
  {
   "cell_type": "markdown",
   "metadata": {},
   "source": [
    "Here’s an example, where an ellipsis(...) is used as the delimiter:"
   ]
  },
  {
   "cell_type": "code",
   "execution_count": 5,
   "metadata": {},
   "outputs": [
    {
     "name": "stdout",
     "output_type": "stream",
     "text": [
      "ale też, bez przesady…\n",
      "można z tym żyć, tylko…\n",
      "ja bym tak na przykład…\n"
     ]
    }
   ],
   "source": [
    "def set_custom_boundaries(doc):\n",
    "    for token in doc[:-1]:\n",
    "        if token.text == '...' or token.text == 'np.' or token.text == 'm.in.':\n",
    "            doc[token.i+1].is_sent_start = True\n",
    "    return doc\n",
    "\n",
    "ellipsis_text = 'ale też, bez przesady… można z tym żyć, tylko…ja bym tak na przykład…'\n",
    "\n",
    "custom_nlp = spacy.load(\"pl_core_news_sm\")\n",
    "custom_nlp.add_pipe(set_custom_boundaries, before='parser')\n",
    "custom_ellipsis_doc = custom_nlp(ellipsis_text)\n",
    "custom_ellipsis_sentences = list(custom_ellipsis_doc.sents)\n",
    "for sentence in custom_ellipsis_sentences:\n",
    "    print(sentence)"
   ]
  },
  {
   "cell_type": "code",
   "execution_count": 6,
   "metadata": {},
   "outputs": [
    {
     "name": "stdout",
     "output_type": "stream",
     "text": [
      "ale też, bez przesady…\n",
      "można z tym żyć, tylko…\n",
      "ja bym tak na przykład…\n"
     ]
    }
   ],
   "source": [
    "ellipsis_doc = nlp(ellipsis_text)\n",
    "ellipsis_sentences = list(ellipsis_doc.sents)\n",
    "for sentence in ellipsis_sentences:\n",
    "   print(sentence)"
   ]
  },
  {
   "cell_type": "markdown",
   "metadata": {},
   "source": [
    "Tokenization in spaCy"
   ]
  },
  {
   "cell_type": "code",
   "execution_count": 7,
   "metadata": {},
   "outputs": [
    {
     "name": "stdout",
     "output_type": "stream",
     "text": [
      "„ 0\n",
      "Divide 1\n",
      "et 8\n",
      "impera 11\n",
      "! 17\n",
      "” 18\n",
      ": 19\n",
      "dziel 21\n",
      ", 26\n",
      "a 28\n",
      "będziesz 30\n",
      "rządził 39\n",
      "; 46\n",
      "dziel 48\n",
      "a 54\n",
      "staniesz 56\n",
      "się 65\n",
      "bogaty 69\n",
      "; 75\n",
      "dziel 77\n",
      "a 83\n",
      "oszukasz 85\n",
      "ludzi 94\n",
      ", 99\n",
      "zaślepisz 101\n",
      "ich 111\n",
      "rozum 115\n",
      ", 120\n",
      "drwić 122\n",
      "będziesz 128\n",
      "ze 137\n",
      "sprawiedliwości 140\n",
      ". 155\n",
      "Sprawiedliwość 157\n",
      "i 172\n",
      "władza 174\n",
      "– 181\n",
      "słowa 183\n",
      "nie 189\n",
      "do 193\n",
      "pogodzenia 196\n",
      ". 206\n"
     ]
    }
   ],
   "source": [
    "for token in about_doc:\n",
    "    print (token, token.idx)"
   ]
  },
  {
   "cell_type": "code",
   "execution_count": 8,
   "metadata": {},
   "outputs": [
    {
     "name": "stdout",
     "output_type": "stream",
     "text": [
      "„ 0 „ False True False „ False\n",
      "Divide 1 Divide  True False False Xxxxx False\n",
      "et 8 et  True False False xx False\n",
      "impera 11 impera True False False xxxx False\n",
      "! 17 ! False True False ! False\n",
      "” 18 ” False True False ” False\n",
      ": 19 :  False True False : False\n",
      "dziel 21 dziel True False False xxxx False\n",
      ", 26 ,  False True False , False\n",
      "a 28 a  True False False x True\n",
      "będziesz 30 będziesz  True False False xxxx False\n",
      "rządził 39 rządził True False False xxxx False\n",
      "; 46 ;  False True False ; False\n",
      "dziel 48 dziel  True False False xxxx False\n",
      "a 54 a  True False False x True\n",
      "staniesz 56 staniesz  True False False xxxx False\n",
      "się 65 się  True False False xxx True\n",
      "bogaty 69 bogaty True False False xxxx False\n",
      "; 75 ;  False True False ; False\n",
      "dziel 77 dziel  True False False xxxx False\n",
      "a 83 a  True False False x True\n",
      "oszukasz 85 oszukasz  True False False xxxx False\n",
      "ludzi 94 ludzi True False False xxxx False\n",
      ", 99 ,  False True False , False\n",
      "zaślepisz 101 zaślepisz  True False False xxxx False\n",
      "ich 111 ich  True False False xxx True\n",
      "rozum 115 rozum True False False xxxx False\n",
      ", 120 ,  False True False , False\n",
      "drwić 122 drwić  True False False xxxx False\n",
      "będziesz 128 będziesz  True False False xxxx False\n",
      "ze 137 ze  True False False xx True\n",
      "sprawiedliwości 140 sprawiedliwości True False False xxxx False\n",
      ". 155 .  False True False . False\n",
      "Sprawiedliwość 157 Sprawiedliwość  True False False Xxxxx False\n",
      "i 172 i  True False False x True\n",
      "władza 174 władza  True False False xxxx False\n",
      "– 181 –  False True False – False\n",
      "słowa 183 słowa  True False False xxxx False\n",
      "nie 189 nie  True False False xxx True\n",
      "do 193 do  True False False xx True\n",
      "pogodzenia 196 pogodzenia True False False xxxx False\n",
      ". 206 . False True False . False\n"
     ]
    }
   ],
   "source": [
    "for token in about_doc:\n",
    "    print (token, token.idx, token.text_with_ws,\n",
    "    token.is_alpha, token.is_punct, token.is_space,\n",
    "    token.shape_, token.is_stop)"
   ]
  },
  {
   "cell_type": "markdown",
   "metadata": {},
   "source": [
    "spaCy allows you to customize tokenization by updating the tokenizer property on the nlp object:"
   ]
  },
  {
   "cell_type": "code",
   "execution_count": 14,
   "metadata": {},
   "outputs": [
    {
     "name": "stdout",
     "output_type": "stream",
     "text": [
      "['„', 'Divide', 'et', 'impera', '!', '”', ':', 'dziel', ',', 'a', 'będziesz', 'rządził', ';', 'dziel', 'a', 'staniesz', 'się', 'bogaty', ';', 'dziel', 'a', 'oszukasz', 'ludzi', ',', 'zaślepisz', 'ich', 'rozum', ',', 'drwić', 'będziesz', 'ze', 'sprawiedliwości', '.', 'Sprawiedliwość', 'i', 'władza', '–', 'słowa', 'nie', 'do', 'pogodzenia', '.']\n"
     ]
    }
   ],
   "source": [
    "custom_nlp = spacy.load('pl_core_news_sm')\n",
    "prefix_re = spacy.util.compile_prefix_regex(custom_nlp.Defaults.prefixes)\n",
    "suffix_re = spacy.util.compile_suffix_regex(custom_nlp.Defaults.suffixes)\n",
    "infix_re = re.compile(r'''[-~]''')\n",
    "\n",
    "def customize_tokenizer(nlp):\n",
    "# Adds support to use `-` as the delimiter for tokenization\n",
    "    return Tokenizer(nlp.vocab, prefix_search=prefix_re.search,\n",
    "                    suffix_search=suffix_re.search,\n",
    "                    infix_finditer=infix_re.finditer,\n",
    "                    token_match=None\n",
    "                   )\n",
    "\n",
    "\n",
    "custom_nlp.tokenizer = customize_tokenizer(custom_nlp)\n",
    "custom_tokenizer_about_doc = custom_nlp(about_text)\n",
    "print([token.text for token in custom_tokenizer_about_doc])"
   ]
  },
  {
   "cell_type": "markdown",
   "metadata": {},
   "source": [
    "Stop words are the most common words in a language. "
   ]
  },
  {
   "cell_type": "code",
   "execution_count": 15,
   "metadata": {},
   "outputs": [
    {
     "name": "stdout",
     "output_type": "stream",
     "text": [
      "sam\n",
      "nie\n",
      "będzie\n",
      "jakichś\n",
      "ok\n",
      "mimo\n",
      "tej\n",
      "oni\n",
      "bylo\n",
      "moja\n"
     ]
    }
   ],
   "source": [
    "import spacy\n",
    "spacy_stopwords = spacy.lang.pl.stop_words.STOP_WORDS\n",
    "len(spacy_stopwords)\n",
    "for stop_word in list(spacy_stopwords)[:10]:\n",
    "    print(stop_word)"
   ]
  },
  {
   "cell_type": "markdown",
   "metadata": {},
   "source": [
    "You can remove stop words from the input text:"
   ]
  },
  {
   "cell_type": "code",
   "execution_count": 16,
   "metadata": {},
   "outputs": [
    {
     "name": "stdout",
     "output_type": "stream",
     "text": [
      "„\n",
      "Divide\n",
      "et\n",
      "impera\n",
      "!\n",
      "”\n",
      ":\n",
      "dziel\n",
      ",\n",
      "będziesz\n",
      "rządził\n",
      ";\n",
      "dziel\n",
      "staniesz\n",
      "bogaty\n",
      ";\n",
      "dziel\n",
      "oszukasz\n",
      "ludzi\n",
      ",\n",
      "zaślepisz\n",
      "rozum\n",
      ",\n",
      "drwić\n",
      "będziesz\n",
      "sprawiedliwości\n",
      ".\n",
      "Sprawiedliwość\n",
      "władza\n",
      "–\n",
      "słowa\n",
      "pogodzenia\n",
      ".\n"
     ]
    }
   ],
   "source": [
    "for token in about_doc:\n",
    "    if not token.is_stop:\n",
    "        print(token)"
   ]
  },
  {
   "cell_type": "markdown",
   "metadata": {},
   "source": [
    "You can also create a list of tokens not containing stop words:"
   ]
  },
  {
   "cell_type": "code",
   "execution_count": 18,
   "metadata": {},
   "outputs": [
    {
     "name": "stdout",
     "output_type": "stream",
     "text": [
      "[„, Divide, et, impera, !, ”, :, dziel, ,, będziesz, rządził, ;, dziel, staniesz, bogaty, ;, dziel, oszukasz, ludzi, ,, zaślepisz, rozum, ,, drwić, będziesz, sprawiedliwości, ., Sprawiedliwość, władza, –, słowa, pogodzenia, .]\n"
     ]
    }
   ],
   "source": [
    "about_no_stopword_doc = [token for token in about_doc if not token.is_stop]\n",
    "print (about_no_stopword_doc)"
   ]
  },
  {
   "cell_type": "markdown",
   "metadata": {},
   "source": [
    "Lemmatization"
   ]
  },
  {
   "cell_type": "code",
   "execution_count": 4,
   "metadata": {},
   "outputs": [
    {
     "name": "stdout",
     "output_type": "stream",
     "text": [
      "Mięso mięso\n",
      "pokroić pokroić\n",
      "w w\n",
      "kostkę kostka\n",
      ". .\n",
      "Cebulę cebula\n",
      "pokroić pokroić\n",
      "w w\n",
      "kosteczkę kosteczka\n",
      "i i\n",
      "zeszklić zeszklić\n",
      "na na\n",
      "oleju olej\n",
      "w w\n",
      "dużym duży\n",
      "garnku garnek\n",
      ". .\n",
      "Dodać dodać\n",
      "mięso mięso\n",
      "i i\n",
      "dokładnie dokładnie\n",
      "je on\n",
      "obsmażyć obsmażyć\n",
      ". .\n",
      "Wlać wlać\n",
      "2 2\n",
      "szklanki szklanka\n",
      "gorącego gorący\n",
      "bulionu bulion\n",
      "lub lub\n",
      "wody woda\n",
      "z z\n",
      "solą sól\n",
      "i i\n",
      "pieprzem pieprz\n",
      ", ,\n",
      "zagotować zagotować\n",
      ". .\n",
      "Następnie następnie\n",
      "dodać dodać\n",
      "połamane połamać\n",
      "suszone suszyć\n",
      "grzyby grzyb\n",
      ", ,\n",
      "przykryć przykryć\n",
      ", ,\n",
      "zmniejszyć zmniejszyć\n",
      "ogień ogień\n",
      "i i\n",
      "gotować gotować\n",
      "przez przez\n",
      "ok ok\n",
      ". .\n",
      "45 45\n",
      "minut minuta\n",
      ". .\n",
      "Dodać dodać\n",
      "listek listek\n",
      "laurowy laurowy\n",
      ", ,\n",
      "ziela ziele\n",
      "angielskie angielski\n",
      ", ,\n",
      "kminek kminek\n",
      ", ,\n",
      "majeranek majeranek\n",
      ", ,\n",
      "powidła powidło\n",
      "śliwkowe śliwkowy\n",
      "lub lub\n",
      "posiekane posiekać\n",
      "śliwki śliwka\n",
      ", ,\n",
      "obrane obrać\n",
      "i i\n",
      "pokrojone pokroić\n",
      "w w\n",
      "kosteczkę kosteczka\n",
      "obrane obrać\n",
      "jabłko jabłko\n",
      "i i\n",
      "wymieszać wymieszać\n",
      ". .\n",
      "Dodać dodać\n",
      "odciśniętą odcisnąć\n",
      "kiszoną kisić\n",
      "kapustę kapusta\n",
      "oraz oraz\n",
      "wlać wlać\n",
      "szklankę szklanka\n",
      "wody woda\n",
      ", ,\n",
      "wymieszać wymieszać\n",
      ". .\n",
      "Przykryć przykryć\n",
      "i i\n",
      "gotować gotować\n",
      "przez przez\n",
      "ok ok\n",
      ". .\n",
      "15 15\n",
      "minut minuta\n",
      ". .\n",
      "Kiełbasę kiełbasa\n",
      "obrać obrać\n",
      "ze z\n",
      "skóry skóra\n",
      ", ,\n",
      "pokroić pokroić\n",
      "w w\n",
      "kostkę kostka\n",
      "i i\n",
      "podsmażyć podsmażyć\n",
      "na na\n",
      "patelni patelnia\n",
      ". .\n",
      "Dodać dodać\n",
      "do do\n",
      "kapusty kapusta\n",
      "i i\n",
      "gotować gotować\n",
      "przez przez\n",
      "ok ok\n",
      ". .\n",
      "30 30\n",
      "minut minuta\n",
      ". .\n",
      "Pod pod\n",
      "koniec koniec\n",
      "dodać dodać\n",
      "koncentrat koncentrat\n",
      "pomidorowy pomidorowy\n",
      ". .\n"
     ]
    }
   ],
   "source": [
    "conference_help_text = ('Mięso pokroić w kostkę. Cebulę pokroić w kosteczkę i zeszklić na oleju w dużym garnku. Dodać mięso i dokładnie je obsmażyć. '\n",
    "'Wlać 2 szklanki gorącego bulionu lub wody z solą i pieprzem, zagotować. Następnie dodać połamane suszone grzyby, przykryć, zmniejszyć ogień i gotować przez ok. 45 minut.'\n",
    "'Dodać listek laurowy, ziela angielskie, kminek, majeranek, powidła śliwkowe lub posiekane śliwki, obrane i pokrojone w kosteczkę obrane jabłko i wymieszać.'\n",
    "'Dodać odciśniętą kiszoną kapustę oraz wlać szklankę wody, wymieszać. Przykryć i gotować przez ok. 15 minut.'\n",
    "'Kiełbasę obrać ze skóry, pokroić w kostkę i podsmażyć na patelni. Dodać do kapusty i gotować przez ok. 30 minut. Pod koniec dodać koncentrat pomidorowy.')\n",
    "conference_help_doc = nlp(conference_help_text)\n",
    "for token in conference_help_doc:\n",
    "    print (token, token.lemma_)"
   ]
  },
  {
   "cell_type": "markdown",
   "metadata": {},
   "source": [
    "Word Frequency - 5 commonly occurring words with their frequencies"
   ]
  },
  {
   "cell_type": "code",
   "execution_count": 9,
   "metadata": {},
   "outputs": [
    {
     "name": "stdout",
     "output_type": "stream",
     "text": [
      "[('Dodać', 4), ('pokroić', 3), ('gotować', 3), ('minut', 3), ('kostkę', 2)]\n"
     ]
    }
   ],
   "source": [
    "complete_text = 'Mięso pokroić w kostkę. Cebulę pokroić w kosteczkę i zeszklić na oleju w dużym garnku. Dodać mięso i dokładnie je obsmażyć. ' \\\n",
    "                'Wlać 2 szklanki gorącego bulionu lub wody z solą i pieprzem, zagotować. Następnie dodać połamane suszone grzyby, przykryć, zmniejszyć ogień i gotować przez ok. 45 minut.'\\\n",
    "                'Dodać listek laurowy, ziela angielskie, kminek, majeranek, powidła śliwkowe lub posiekane śliwki, obrane i pokrojone w kosteczkę obrane jabłko i wymieszać.'\\\n",
    "                'Dodać odciśniętą kiszoną kapustę oraz wlać szklankę wody, wymieszać. Przykryć i gotować przez ok. 15 minut.'\\\n",
    "                'Kiełbasę obrać ze skóry, pokroić w kostkę i podsmażyć na patelni. Dodać do kapusty i gotować przez ok. 30 minut. Pod koniec dodać koncentrat pomidorowy.'\n",
    "complete_doc = nlp(complete_text)\n",
    "\n",
    "words = [token.text for token in complete_doc\n",
    "          if not token.is_stop and not token.is_punct]\n",
    "word_freq = Counter(words)\n",
    "common_words = word_freq.most_common(5)\n",
    "print (common_words)"
   ]
  },
  {
   "cell_type": "markdown",
   "metadata": {},
   "source": [
    "Comparison with Word Frequency and StopWords the same text with stop words:"
   ]
  },
  {
   "cell_type": "code",
   "execution_count": 10,
   "metadata": {},
   "outputs": [
    {
     "name": "stdout",
     "output_type": "stream",
     "text": [
      "[('i', 9), ('w', 5), ('Dodać', 4), ('pokroić', 3), ('gotować', 3)]\n"
     ]
    }
   ],
   "source": [
    "words_all = [token.text for token in complete_doc if not token.is_punct]\n",
    "word_freq_all = Counter(words_all)\n",
    "common_words_all = word_freq_all.most_common(5)\n",
    "print (common_words_all)"
   ]
  },
  {
   "cell_type": "markdown",
   "metadata": {},
   "source": [
    "Part of Speech Tagging - In spaCy, POS tags are available as an attribute on the Token object:"
   ]
  },
  {
   "cell_type": "code",
   "execution_count": 13,
   "metadata": {},
   "outputs": [
    {
     "name": "stdout",
     "output_type": "stream",
     "text": [
      "„ INTERP PUNCT None\n",
      "Divide XXX X None\n",
      "et XXX X None\n",
      "impera XXX X None\n",
      "! INTERP PUNCT None\n",
      "” INTERP PUNCT None\n",
      ": INTERP PUNCT None\n",
      "dziel IMPT VERB None\n",
      ", INTERP PUNCT None\n",
      "a CONJ CCONJ conjunction\n",
      "będziesz BEDZIE VERB None\n",
      "rządził PRAET VERB None\n",
      "; INTERP PUNCT None\n",
      "dziel SUBST NOUN None\n",
      "a CONJ CCONJ conjunction\n",
      "staniesz FIN VERB None\n",
      "się QUB PART None\n",
      "bogaty ADJ ADJ adjective\n",
      "; INTERP PUNCT None\n",
      "dziel SUBST NOUN None\n",
      "a CONJ CCONJ conjunction\n",
      "oszukasz FIN VERB None\n",
      "ludzi SUBST NOUN None\n",
      ", INTERP PUNCT None\n",
      "zaślepisz FIN VERB None\n",
      "ich PPRON3 PRON None\n",
      "rozum SUBST NOUN None\n",
      ", INTERP PUNCT None\n",
      "drwić INF VERB None\n",
      "będziesz BEDZIE VERB None\n",
      "ze PREP ADP None\n",
      "sprawiedliwości SUBST NOUN None\n",
      ". INTERP PUNCT None\n",
      "Sprawiedliwość SUBST NOUN None\n",
      "i CONJ CCONJ conjunction\n",
      "władza SUBST NOUN None\n",
      "– INTERP PUNCT None\n",
      "słowa SUBST NOUN None\n",
      "nie QUB PART None\n",
      "do PREP ADP None\n",
      "pogodzenia GER NOUN None\n",
      ". INTERP PUNCT None\n"
     ]
    }
   ],
   "source": [
    "for token in about_doc:\n",
    "    print (token, token.tag_, token.pos_, spacy.explain(token.tag_))"
   ]
  },
  {
   "cell_type": "markdown",
   "metadata": {},
   "source": [
    "Using POS tags, you can extract a particular category of words:"
   ]
  },
  {
   "cell_type": "code",
   "execution_count": 18,
   "metadata": {},
   "outputs": [
    {
     "data": {
      "text/plain": [
       "[dziel,\n",
       " dziel,\n",
       " ludzi,\n",
       " rozum,\n",
       " sprawiedliwości,\n",
       " Sprawiedliwość,\n",
       " władza,\n",
       " słowa,\n",
       " pogodzenia]"
      ]
     },
     "execution_count": 18,
     "metadata": {},
     "output_type": "execute_result"
    }
   ],
   "source": [
    "nouns = []\n",
    "adjectives = []\n",
    "for token in about_doc:\n",
    "     if token.pos_ == 'NOUN':\n",
    "         nouns.append(token)\n",
    "     if token.pos_ == 'ADJ':\n",
    "         adjectives.append(token)\n",
    "\n",
    "nouns"
   ]
  },
  {
   "cell_type": "code",
   "execution_count": 19,
   "metadata": {},
   "outputs": [
    {
     "data": {
      "text/plain": [
       "[bogaty]"
      ]
     },
     "execution_count": 19,
     "metadata": {},
     "output_type": "execute_result"
    }
   ],
   "source": [
    "adjectives"
   ]
  },
  {
   "cell_type": "markdown",
   "metadata": {},
   "source": [
    "Visualization: Using displaCy"
   ]
  },
  {
   "cell_type": "code",
   "execution_count": 26,
   "metadata": {},
   "outputs": [
    {
     "data": {
      "text/html": [
       "<span class=\"tex2jax_ignore\"><svg xmlns=\"http://www.w3.org/2000/svg\" xmlns:xlink=\"http://www.w3.org/1999/xlink\" xml:lang=\"pl\" id=\"33b26785594f4375b761807ebd18e793-0\" class=\"displacy\" width=\"5475\" height=\"1012.0\" direction=\"ltr\" style=\"max-width: none; height: 1012.0px; color: #000000; background: #ffffff; font-family: Arial; direction: ltr\">\n",
       "<text class=\"displacy-token\" fill=\"currentColor\" text-anchor=\"middle\" y=\"922.0\">\n",
       "    <tspan class=\"displacy-word\" fill=\"currentColor\" x=\"50\">bulion –</tspan>\n",
       "    <tspan class=\"displacy-tag\" dy=\"2em\" fill=\"currentColor\" x=\"50\">NOUN</tspan>\n",
       "</text>\n",
       "\n",
       "<text class=\"displacy-token\" fill=\"currentColor\" text-anchor=\"middle\" y=\"922.0\">\n",
       "    <tspan class=\"displacy-word\" fill=\"currentColor\" x=\"225\">mocny</tspan>\n",
       "    <tspan class=\"displacy-tag\" dy=\"2em\" fill=\"currentColor\" x=\"225\">ADJ</tspan>\n",
       "</text>\n",
       "\n",
       "<text class=\"displacy-token\" fill=\"currentColor\" text-anchor=\"middle\" y=\"922.0\">\n",
       "    <tspan class=\"displacy-word\" fill=\"currentColor\" x=\"400\">rosół,</tspan>\n",
       "    <tspan class=\"displacy-tag\" dy=\"2em\" fill=\"currentColor\" x=\"400\">NOUN</tspan>\n",
       "</text>\n",
       "\n",
       "<text class=\"displacy-token\" fill=\"currentColor\" text-anchor=\"middle\" y=\"922.0\">\n",
       "    <tspan class=\"displacy-word\" fill=\"currentColor\" x=\"575\">odtłuszczony</tspan>\n",
       "    <tspan class=\"displacy-tag\" dy=\"2em\" fill=\"currentColor\" x=\"575\">VERB</tspan>\n",
       "</text>\n",
       "\n",
       "<text class=\"displacy-token\" fill=\"currentColor\" text-anchor=\"middle\" y=\"922.0\">\n",
       "    <tspan class=\"displacy-word\" fill=\"currentColor\" x=\"750\">i</tspan>\n",
       "    <tspan class=\"displacy-tag\" dy=\"2em\" fill=\"currentColor\" x=\"750\">CCONJ</tspan>\n",
       "</text>\n",
       "\n",
       "<text class=\"displacy-token\" fill=\"currentColor\" text-anchor=\"middle\" y=\"922.0\">\n",
       "    <tspan class=\"displacy-word\" fill=\"currentColor\" x=\"925\">podawany</tspan>\n",
       "    <tspan class=\"displacy-tag\" dy=\"2em\" fill=\"currentColor\" x=\"925\">VERB</tspan>\n",
       "</text>\n",
       "\n",
       "<text class=\"displacy-token\" fill=\"currentColor\" text-anchor=\"middle\" y=\"922.0\">\n",
       "    <tspan class=\"displacy-word\" fill=\"currentColor\" x=\"1100\">na</tspan>\n",
       "    <tspan class=\"displacy-tag\" dy=\"2em\" fill=\"currentColor\" x=\"1100\">ADP</tspan>\n",
       "</text>\n",
       "\n",
       "<text class=\"displacy-token\" fill=\"currentColor\" text-anchor=\"middle\" y=\"922.0\">\n",
       "    <tspan class=\"displacy-word\" fill=\"currentColor\" x=\"1275\">ciepło</tspan>\n",
       "    <tspan class=\"displacy-tag\" dy=\"2em\" fill=\"currentColor\" x=\"1275\">NOUN</tspan>\n",
       "</text>\n",
       "\n",
       "<text class=\"displacy-token\" fill=\"currentColor\" text-anchor=\"middle\" y=\"922.0\">\n",
       "    <tspan class=\"displacy-word\" fill=\"currentColor\" x=\"1450\">lub</tspan>\n",
       "    <tspan class=\"displacy-tag\" dy=\"2em\" fill=\"currentColor\" x=\"1450\">CCONJ</tspan>\n",
       "</text>\n",
       "\n",
       "<text class=\"displacy-token\" fill=\"currentColor\" text-anchor=\"middle\" y=\"922.0\">\n",
       "    <tspan class=\"displacy-word\" fill=\"currentColor\" x=\"1625\">zimno;bulion –</tspan>\n",
       "    <tspan class=\"displacy-tag\" dy=\"2em\" fill=\"currentColor\" x=\"1625\">NOUN</tspan>\n",
       "</text>\n",
       "\n",
       "<text class=\"displacy-token\" fill=\"currentColor\" text-anchor=\"middle\" y=\"922.0\">\n",
       "    <tspan class=\"displacy-word\" fill=\"currentColor\" x=\"1800\">wywar</tspan>\n",
       "    <tspan class=\"displacy-tag\" dy=\"2em\" fill=\"currentColor\" x=\"1800\">NOUN</tspan>\n",
       "</text>\n",
       "\n",
       "<text class=\"displacy-token\" fill=\"currentColor\" text-anchor=\"middle\" y=\"922.0\">\n",
       "    <tspan class=\"displacy-word\" fill=\"currentColor\" x=\"1975\">z</tspan>\n",
       "    <tspan class=\"displacy-tag\" dy=\"2em\" fill=\"currentColor\" x=\"1975\">ADP</tspan>\n",
       "</text>\n",
       "\n",
       "<text class=\"displacy-token\" fill=\"currentColor\" text-anchor=\"middle\" y=\"922.0\">\n",
       "    <tspan class=\"displacy-word\" fill=\"currentColor\" x=\"2150\">kości,</tspan>\n",
       "    <tspan class=\"displacy-tag\" dy=\"2em\" fill=\"currentColor\" x=\"2150\">NOUN</tspan>\n",
       "</text>\n",
       "\n",
       "<text class=\"displacy-token\" fill=\"currentColor\" text-anchor=\"middle\" y=\"922.0\">\n",
       "    <tspan class=\"displacy-word\" fill=\"currentColor\" x=\"2325\">mięsa,</tspan>\n",
       "    <tspan class=\"displacy-tag\" dy=\"2em\" fill=\"currentColor\" x=\"2325\">NOUN</tspan>\n",
       "</text>\n",
       "\n",
       "<text class=\"displacy-token\" fill=\"currentColor\" text-anchor=\"middle\" y=\"922.0\">\n",
       "    <tspan class=\"displacy-word\" fill=\"currentColor\" x=\"2500\">warzyw,</tspan>\n",
       "    <tspan class=\"displacy-tag\" dy=\"2em\" fill=\"currentColor\" x=\"2500\">NOUN</tspan>\n",
       "</text>\n",
       "\n",
       "<text class=\"displacy-token\" fill=\"currentColor\" text-anchor=\"middle\" y=\"922.0\">\n",
       "    <tspan class=\"displacy-word\" fill=\"currentColor\" x=\"2675\">służący</tspan>\n",
       "    <tspan class=\"displacy-tag\" dy=\"2em\" fill=\"currentColor\" x=\"2675\">VERB</tspan>\n",
       "</text>\n",
       "\n",
       "<text class=\"displacy-token\" fill=\"currentColor\" text-anchor=\"middle\" y=\"922.0\">\n",
       "    <tspan class=\"displacy-word\" fill=\"currentColor\" x=\"2850\">do</tspan>\n",
       "    <tspan class=\"displacy-tag\" dy=\"2em\" fill=\"currentColor\" x=\"2850\">ADP</tspan>\n",
       "</text>\n",
       "\n",
       "<text class=\"displacy-token\" fill=\"currentColor\" text-anchor=\"middle\" y=\"922.0\">\n",
       "    <tspan class=\"displacy-word\" fill=\"currentColor\" x=\"3025\">gotowania</tspan>\n",
       "    <tspan class=\"displacy-tag\" dy=\"2em\" fill=\"currentColor\" x=\"3025\">NOUN</tspan>\n",
       "</text>\n",
       "\n",
       "<text class=\"displacy-token\" fill=\"currentColor\" text-anchor=\"middle\" y=\"922.0\">\n",
       "    <tspan class=\"displacy-word\" fill=\"currentColor\" x=\"3200\">lub</tspan>\n",
       "    <tspan class=\"displacy-tag\" dy=\"2em\" fill=\"currentColor\" x=\"3200\">CCONJ</tspan>\n",
       "</text>\n",
       "\n",
       "<text class=\"displacy-token\" fill=\"currentColor\" text-anchor=\"middle\" y=\"922.0\">\n",
       "    <tspan class=\"displacy-word\" fill=\"currentColor\" x=\"3375\">duszenia</tspan>\n",
       "    <tspan class=\"displacy-tag\" dy=\"2em\" fill=\"currentColor\" x=\"3375\">NOUN</tspan>\n",
       "</text>\n",
       "\n",
       "<text class=\"displacy-token\" fill=\"currentColor\" text-anchor=\"middle\" y=\"922.0\">\n",
       "    <tspan class=\"displacy-word\" fill=\"currentColor\" x=\"3550\">potraw,</tspan>\n",
       "    <tspan class=\"displacy-tag\" dy=\"2em\" fill=\"currentColor\" x=\"3550\">NOUN</tspan>\n",
       "</text>\n",
       "\n",
       "<text class=\"displacy-token\" fill=\"currentColor\" text-anchor=\"middle\" y=\"922.0\">\n",
       "    <tspan class=\"displacy-word\" fill=\"currentColor\" x=\"3725\">zup,</tspan>\n",
       "    <tspan class=\"displacy-tag\" dy=\"2em\" fill=\"currentColor\" x=\"3725\">NOUN</tspan>\n",
       "</text>\n",
       "\n",
       "<text class=\"displacy-token\" fill=\"currentColor\" text-anchor=\"middle\" y=\"922.0\">\n",
       "    <tspan class=\"displacy-word\" fill=\"currentColor\" x=\"3900\">sosów;.bulion –</tspan>\n",
       "    <tspan class=\"displacy-tag\" dy=\"2em\" fill=\"currentColor\" x=\"3900\">NOUN</tspan>\n",
       "</text>\n",
       "\n",
       "<text class=\"displacy-token\" fill=\"currentColor\" text-anchor=\"middle\" y=\"922.0\">\n",
       "    <tspan class=\"displacy-word\" fill=\"currentColor\" x=\"4075\">koncentrat</tspan>\n",
       "    <tspan class=\"displacy-tag\" dy=\"2em\" fill=\"currentColor\" x=\"4075\">NOUN</tspan>\n",
       "</text>\n",
       "\n",
       "<text class=\"displacy-token\" fill=\"currentColor\" text-anchor=\"middle\" y=\"922.0\">\n",
       "    <tspan class=\"displacy-word\" fill=\"currentColor\" x=\"4250\">mięsny</tspan>\n",
       "    <tspan class=\"displacy-tag\" dy=\"2em\" fill=\"currentColor\" x=\"4250\">ADJ</tspan>\n",
       "</text>\n",
       "\n",
       "<text class=\"displacy-token\" fill=\"currentColor\" text-anchor=\"middle\" y=\"922.0\">\n",
       "    <tspan class=\"displacy-word\" fill=\"currentColor\" x=\"4425\">lub</tspan>\n",
       "    <tspan class=\"displacy-tag\" dy=\"2em\" fill=\"currentColor\" x=\"4425\">CCONJ</tspan>\n",
       "</text>\n",
       "\n",
       "<text class=\"displacy-token\" fill=\"currentColor\" text-anchor=\"middle\" y=\"922.0\">\n",
       "    <tspan class=\"displacy-word\" fill=\"currentColor\" x=\"4600\">warzywny,</tspan>\n",
       "    <tspan class=\"displacy-tag\" dy=\"2em\" fill=\"currentColor\" x=\"4600\">ADJ</tspan>\n",
       "</text>\n",
       "\n",
       "<text class=\"displacy-token\" fill=\"currentColor\" text-anchor=\"middle\" y=\"922.0\">\n",
       "    <tspan class=\"displacy-word\" fill=\"currentColor\" x=\"4775\">do</tspan>\n",
       "    <tspan class=\"displacy-tag\" dy=\"2em\" fill=\"currentColor\" x=\"4775\">ADP</tspan>\n",
       "</text>\n",
       "\n",
       "<text class=\"displacy-token\" fill=\"currentColor\" text-anchor=\"middle\" y=\"922.0\">\n",
       "    <tspan class=\"displacy-word\" fill=\"currentColor\" x=\"4950\">rozpuszczenia</tspan>\n",
       "    <tspan class=\"displacy-tag\" dy=\"2em\" fill=\"currentColor\" x=\"4950\">NOUN</tspan>\n",
       "</text>\n",
       "\n",
       "<text class=\"displacy-token\" fill=\"currentColor\" text-anchor=\"middle\" y=\"922.0\">\n",
       "    <tspan class=\"displacy-word\" fill=\"currentColor\" x=\"5125\">w</tspan>\n",
       "    <tspan class=\"displacy-tag\" dy=\"2em\" fill=\"currentColor\" x=\"5125\">ADP</tspan>\n",
       "</text>\n",
       "\n",
       "<text class=\"displacy-token\" fill=\"currentColor\" text-anchor=\"middle\" y=\"922.0\">\n",
       "    <tspan class=\"displacy-word\" fill=\"currentColor\" x=\"5300\">wodzie.</tspan>\n",
       "    <tspan class=\"displacy-tag\" dy=\"2em\" fill=\"currentColor\" x=\"5300\">NOUN</tspan>\n",
       "</text>\n",
       "\n",
       "<g class=\"displacy-arrow\">\n",
       "    <path class=\"displacy-arc\" id=\"arrow-33b26785594f4375b761807ebd18e793-0-0\" stroke-width=\"2px\" d=\"M70,877.0 C70,2.0 2675.0,2.0 2675.0,877.0\" fill=\"none\" stroke=\"currentColor\"/>\n",
       "    <text dy=\"1.25em\" style=\"font-size: 0.8em; letter-spacing: 1px\">\n",
       "        <textPath xlink:href=\"#arrow-33b26785594f4375b761807ebd18e793-0-0\" class=\"displacy-label\" startOffset=\"50%\" side=\"left\" fill=\"currentColor\" text-anchor=\"middle\">nsubj:pass</textPath>\n",
       "    </text>\n",
       "    <path class=\"displacy-arrowhead\" d=\"M70,879.0 L62,867.0 78,867.0\" fill=\"currentColor\"/>\n",
       "</g>\n",
       "\n",
       "<g class=\"displacy-arrow\">\n",
       "    <path class=\"displacy-arc\" id=\"arrow-33b26785594f4375b761807ebd18e793-0-1\" stroke-width=\"2px\" d=\"M70,877.0 C70,789.5 180.0,789.5 180.0,877.0\" fill=\"none\" stroke=\"currentColor\"/>\n",
       "    <text dy=\"1.25em\" style=\"font-size: 0.8em; letter-spacing: 1px\">\n",
       "        <textPath xlink:href=\"#arrow-33b26785594f4375b761807ebd18e793-0-1\" class=\"displacy-label\" startOffset=\"50%\" side=\"left\" fill=\"currentColor\" text-anchor=\"middle\">nmod</textPath>\n",
       "    </text>\n",
       "    <path class=\"displacy-arrowhead\" d=\"M180.0,879.0 L188.0,867.0 172.0,867.0\" fill=\"currentColor\"/>\n",
       "</g>\n",
       "\n",
       "<g class=\"displacy-arrow\">\n",
       "    <path class=\"displacy-arc\" id=\"arrow-33b26785594f4375b761807ebd18e793-0-2\" stroke-width=\"2px\" d=\"M245,877.0 C245,789.5 355.0,789.5 355.0,877.0\" fill=\"none\" stroke=\"currentColor\"/>\n",
       "    <text dy=\"1.25em\" style=\"font-size: 0.8em; letter-spacing: 1px\">\n",
       "        <textPath xlink:href=\"#arrow-33b26785594f4375b761807ebd18e793-0-2\" class=\"displacy-label\" startOffset=\"50%\" side=\"left\" fill=\"currentColor\" text-anchor=\"middle\">nmod</textPath>\n",
       "    </text>\n",
       "    <path class=\"displacy-arrowhead\" d=\"M355.0,879.0 L363.0,867.0 347.0,867.0\" fill=\"currentColor\"/>\n",
       "</g>\n",
       "\n",
       "<g class=\"displacy-arrow\">\n",
       "    <path class=\"displacy-arc\" id=\"arrow-33b26785594f4375b761807ebd18e793-0-3\" stroke-width=\"2px\" d=\"M245,877.0 C245,702.0 535.0,702.0 535.0,877.0\" fill=\"none\" stroke=\"currentColor\"/>\n",
       "    <text dy=\"1.25em\" style=\"font-size: 0.8em; letter-spacing: 1px\">\n",
       "        <textPath xlink:href=\"#arrow-33b26785594f4375b761807ebd18e793-0-3\" class=\"displacy-label\" startOffset=\"50%\" side=\"left\" fill=\"currentColor\" text-anchor=\"middle\">conj</textPath>\n",
       "    </text>\n",
       "    <path class=\"displacy-arrowhead\" d=\"M535.0,879.0 L543.0,867.0 527.0,867.0\" fill=\"currentColor\"/>\n",
       "</g>\n",
       "\n",
       "<g class=\"displacy-arrow\">\n",
       "    <path class=\"displacy-arc\" id=\"arrow-33b26785594f4375b761807ebd18e793-0-4\" stroke-width=\"2px\" d=\"M770,877.0 C770,789.5 880.0,789.5 880.0,877.0\" fill=\"none\" stroke=\"currentColor\"/>\n",
       "    <text dy=\"1.25em\" style=\"font-size: 0.8em; letter-spacing: 1px\">\n",
       "        <textPath xlink:href=\"#arrow-33b26785594f4375b761807ebd18e793-0-4\" class=\"displacy-label\" startOffset=\"50%\" side=\"left\" fill=\"currentColor\" text-anchor=\"middle\">cc</textPath>\n",
       "    </text>\n",
       "    <path class=\"displacy-arrowhead\" d=\"M770,879.0 L762,867.0 778,867.0\" fill=\"currentColor\"/>\n",
       "</g>\n",
       "\n",
       "<g class=\"displacy-arrow\">\n",
       "    <path class=\"displacy-arc\" id=\"arrow-33b26785594f4375b761807ebd18e793-0-5\" stroke-width=\"2px\" d=\"M245,877.0 C245,527.0 895.0,527.0 895.0,877.0\" fill=\"none\" stroke=\"currentColor\"/>\n",
       "    <text dy=\"1.25em\" style=\"font-size: 0.8em; letter-spacing: 1px\">\n",
       "        <textPath xlink:href=\"#arrow-33b26785594f4375b761807ebd18e793-0-5\" class=\"displacy-label\" startOffset=\"50%\" side=\"left\" fill=\"currentColor\" text-anchor=\"middle\">conj</textPath>\n",
       "    </text>\n",
       "    <path class=\"displacy-arrowhead\" d=\"M895.0,879.0 L903.0,867.0 887.0,867.0\" fill=\"currentColor\"/>\n",
       "</g>\n",
       "\n",
       "<g class=\"displacy-arrow\">\n",
       "    <path class=\"displacy-arc\" id=\"arrow-33b26785594f4375b761807ebd18e793-0-6\" stroke-width=\"2px\" d=\"M1120,877.0 C1120,789.5 1230.0,789.5 1230.0,877.0\" fill=\"none\" stroke=\"currentColor\"/>\n",
       "    <text dy=\"1.25em\" style=\"font-size: 0.8em; letter-spacing: 1px\">\n",
       "        <textPath xlink:href=\"#arrow-33b26785594f4375b761807ebd18e793-0-6\" class=\"displacy-label\" startOffset=\"50%\" side=\"left\" fill=\"currentColor\" text-anchor=\"middle\">case</textPath>\n",
       "    </text>\n",
       "    <path class=\"displacy-arrowhead\" d=\"M1120,879.0 L1112,867.0 1128,867.0\" fill=\"currentColor\"/>\n",
       "</g>\n",
       "\n",
       "<g class=\"displacy-arrow\">\n",
       "    <path class=\"displacy-arc\" id=\"arrow-33b26785594f4375b761807ebd18e793-0-7\" stroke-width=\"2px\" d=\"M945,877.0 C945,702.0 1235.0,702.0 1235.0,877.0\" fill=\"none\" stroke=\"currentColor\"/>\n",
       "    <text dy=\"1.25em\" style=\"font-size: 0.8em; letter-spacing: 1px\">\n",
       "        <textPath xlink:href=\"#arrow-33b26785594f4375b761807ebd18e793-0-7\" class=\"displacy-label\" startOffset=\"50%\" side=\"left\" fill=\"currentColor\" text-anchor=\"middle\">obl</textPath>\n",
       "    </text>\n",
       "    <path class=\"displacy-arrowhead\" d=\"M1235.0,879.0 L1243.0,867.0 1227.0,867.0\" fill=\"currentColor\"/>\n",
       "</g>\n",
       "\n",
       "<g class=\"displacy-arrow\">\n",
       "    <path class=\"displacy-arc\" id=\"arrow-33b26785594f4375b761807ebd18e793-0-8\" stroke-width=\"2px\" d=\"M1470,877.0 C1470,789.5 1580.0,789.5 1580.0,877.0\" fill=\"none\" stroke=\"currentColor\"/>\n",
       "    <text dy=\"1.25em\" style=\"font-size: 0.8em; letter-spacing: 1px\">\n",
       "        <textPath xlink:href=\"#arrow-33b26785594f4375b761807ebd18e793-0-8\" class=\"displacy-label\" startOffset=\"50%\" side=\"left\" fill=\"currentColor\" text-anchor=\"middle\">cc</textPath>\n",
       "    </text>\n",
       "    <path class=\"displacy-arrowhead\" d=\"M1470,879.0 L1462,867.0 1478,867.0\" fill=\"currentColor\"/>\n",
       "</g>\n",
       "\n",
       "<g class=\"displacy-arrow\">\n",
       "    <path class=\"displacy-arc\" id=\"arrow-33b26785594f4375b761807ebd18e793-0-9\" stroke-width=\"2px\" d=\"M70,877.0 C70,352.0 1605.0,352.0 1605.0,877.0\" fill=\"none\" stroke=\"currentColor\"/>\n",
       "    <text dy=\"1.25em\" style=\"font-size: 0.8em; letter-spacing: 1px\">\n",
       "        <textPath xlink:href=\"#arrow-33b26785594f4375b761807ebd18e793-0-9\" class=\"displacy-label\" startOffset=\"50%\" side=\"left\" fill=\"currentColor\" text-anchor=\"middle\">conj</textPath>\n",
       "    </text>\n",
       "    <path class=\"displacy-arrowhead\" d=\"M1605.0,879.0 L1613.0,867.0 1597.0,867.0\" fill=\"currentColor\"/>\n",
       "</g>\n",
       "\n",
       "<g class=\"displacy-arrow\">\n",
       "    <path class=\"displacy-arc\" id=\"arrow-33b26785594f4375b761807ebd18e793-0-10\" stroke-width=\"2px\" d=\"M1645,877.0 C1645,789.5 1755.0,789.5 1755.0,877.0\" fill=\"none\" stroke=\"currentColor\"/>\n",
       "    <text dy=\"1.25em\" style=\"font-size: 0.8em; letter-spacing: 1px\">\n",
       "        <textPath xlink:href=\"#arrow-33b26785594f4375b761807ebd18e793-0-10\" class=\"displacy-label\" startOffset=\"50%\" side=\"left\" fill=\"currentColor\" text-anchor=\"middle\">case</textPath>\n",
       "    </text>\n",
       "    <path class=\"displacy-arrowhead\" d=\"M1755.0,879.0 L1763.0,867.0 1747.0,867.0\" fill=\"currentColor\"/>\n",
       "</g>\n",
       "\n",
       "<g class=\"displacy-arrow\">\n",
       "    <path class=\"displacy-arc\" id=\"arrow-33b26785594f4375b761807ebd18e793-0-11\" stroke-width=\"2px\" d=\"M1995,877.0 C1995,789.5 2105.0,789.5 2105.0,877.0\" fill=\"none\" stroke=\"currentColor\"/>\n",
       "    <text dy=\"1.25em\" style=\"font-size: 0.8em; letter-spacing: 1px\">\n",
       "        <textPath xlink:href=\"#arrow-33b26785594f4375b761807ebd18e793-0-11\" class=\"displacy-label\" startOffset=\"50%\" side=\"left\" fill=\"currentColor\" text-anchor=\"middle\">case</textPath>\n",
       "    </text>\n",
       "    <path class=\"displacy-arrowhead\" d=\"M1995,879.0 L1987,867.0 2003,867.0\" fill=\"currentColor\"/>\n",
       "</g>\n",
       "\n",
       "<g class=\"displacy-arrow\">\n",
       "    <path class=\"displacy-arc\" id=\"arrow-33b26785594f4375b761807ebd18e793-0-12\" stroke-width=\"2px\" d=\"M70,877.0 C70,264.5 2135.0,264.5 2135.0,877.0\" fill=\"none\" stroke=\"currentColor\"/>\n",
       "    <text dy=\"1.25em\" style=\"font-size: 0.8em; letter-spacing: 1px\">\n",
       "        <textPath xlink:href=\"#arrow-33b26785594f4375b761807ebd18e793-0-12\" class=\"displacy-label\" startOffset=\"50%\" side=\"left\" fill=\"currentColor\" text-anchor=\"middle\">nmod</textPath>\n",
       "    </text>\n",
       "    <path class=\"displacy-arrowhead\" d=\"M2135.0,879.0 L2143.0,867.0 2127.0,867.0\" fill=\"currentColor\"/>\n",
       "</g>\n",
       "\n",
       "<g class=\"displacy-arrow\">\n",
       "    <path class=\"displacy-arc\" id=\"arrow-33b26785594f4375b761807ebd18e793-0-13\" stroke-width=\"2px\" d=\"M2170,877.0 C2170,789.5 2280.0,789.5 2280.0,877.0\" fill=\"none\" stroke=\"currentColor\"/>\n",
       "    <text dy=\"1.25em\" style=\"font-size: 0.8em; letter-spacing: 1px\">\n",
       "        <textPath xlink:href=\"#arrow-33b26785594f4375b761807ebd18e793-0-13\" class=\"displacy-label\" startOffset=\"50%\" side=\"left\" fill=\"currentColor\" text-anchor=\"middle\">conj</textPath>\n",
       "    </text>\n",
       "    <path class=\"displacy-arrowhead\" d=\"M2280.0,879.0 L2288.0,867.0 2272.0,867.0\" fill=\"currentColor\"/>\n",
       "</g>\n",
       "\n",
       "<g class=\"displacy-arrow\">\n",
       "    <path class=\"displacy-arc\" id=\"arrow-33b26785594f4375b761807ebd18e793-0-14\" stroke-width=\"2px\" d=\"M70,877.0 C70,89.5 2495.0,89.5 2495.0,877.0\" fill=\"none\" stroke=\"currentColor\"/>\n",
       "    <text dy=\"1.25em\" style=\"font-size: 0.8em; letter-spacing: 1px\">\n",
       "        <textPath xlink:href=\"#arrow-33b26785594f4375b761807ebd18e793-0-14\" class=\"displacy-label\" startOffset=\"50%\" side=\"left\" fill=\"currentColor\" text-anchor=\"middle\">conj</textPath>\n",
       "    </text>\n",
       "    <path class=\"displacy-arrowhead\" d=\"M2495.0,879.0 L2503.0,867.0 2487.0,867.0\" fill=\"currentColor\"/>\n",
       "</g>\n",
       "\n",
       "<g class=\"displacy-arrow\">\n",
       "    <path class=\"displacy-arc\" id=\"arrow-33b26785594f4375b761807ebd18e793-0-15\" stroke-width=\"2px\" d=\"M2870,877.0 C2870,789.5 2980.0,789.5 2980.0,877.0\" fill=\"none\" stroke=\"currentColor\"/>\n",
       "    <text dy=\"1.25em\" style=\"font-size: 0.8em; letter-spacing: 1px\">\n",
       "        <textPath xlink:href=\"#arrow-33b26785594f4375b761807ebd18e793-0-15\" class=\"displacy-label\" startOffset=\"50%\" side=\"left\" fill=\"currentColor\" text-anchor=\"middle\">case</textPath>\n",
       "    </text>\n",
       "    <path class=\"displacy-arrowhead\" d=\"M2870,879.0 L2862,867.0 2878,867.0\" fill=\"currentColor\"/>\n",
       "</g>\n",
       "\n",
       "<g class=\"displacy-arrow\">\n",
       "    <path class=\"displacy-arc\" id=\"arrow-33b26785594f4375b761807ebd18e793-0-16\" stroke-width=\"2px\" d=\"M2695,877.0 C2695,702.0 2985.0,702.0 2985.0,877.0\" fill=\"none\" stroke=\"currentColor\"/>\n",
       "    <text dy=\"1.25em\" style=\"font-size: 0.8em; letter-spacing: 1px\">\n",
       "        <textPath xlink:href=\"#arrow-33b26785594f4375b761807ebd18e793-0-16\" class=\"displacy-label\" startOffset=\"50%\" side=\"left\" fill=\"currentColor\" text-anchor=\"middle\">obl:arg</textPath>\n",
       "    </text>\n",
       "    <path class=\"displacy-arrowhead\" d=\"M2985.0,879.0 L2993.0,867.0 2977.0,867.0\" fill=\"currentColor\"/>\n",
       "</g>\n",
       "\n",
       "<g class=\"displacy-arrow\">\n",
       "    <path class=\"displacy-arc\" id=\"arrow-33b26785594f4375b761807ebd18e793-0-17\" stroke-width=\"2px\" d=\"M3220,877.0 C3220,789.5 3330.0,789.5 3330.0,877.0\" fill=\"none\" stroke=\"currentColor\"/>\n",
       "    <text dy=\"1.25em\" style=\"font-size: 0.8em; letter-spacing: 1px\">\n",
       "        <textPath xlink:href=\"#arrow-33b26785594f4375b761807ebd18e793-0-17\" class=\"displacy-label\" startOffset=\"50%\" side=\"left\" fill=\"currentColor\" text-anchor=\"middle\">cc</textPath>\n",
       "    </text>\n",
       "    <path class=\"displacy-arrowhead\" d=\"M3220,879.0 L3212,867.0 3228,867.0\" fill=\"currentColor\"/>\n",
       "</g>\n",
       "\n",
       "<g class=\"displacy-arrow\">\n",
       "    <path class=\"displacy-arc\" id=\"arrow-33b26785594f4375b761807ebd18e793-0-18\" stroke-width=\"2px\" d=\"M3045,877.0 C3045,702.0 3335.0,702.0 3335.0,877.0\" fill=\"none\" stroke=\"currentColor\"/>\n",
       "    <text dy=\"1.25em\" style=\"font-size: 0.8em; letter-spacing: 1px\">\n",
       "        <textPath xlink:href=\"#arrow-33b26785594f4375b761807ebd18e793-0-18\" class=\"displacy-label\" startOffset=\"50%\" side=\"left\" fill=\"currentColor\" text-anchor=\"middle\">conj</textPath>\n",
       "    </text>\n",
       "    <path class=\"displacy-arrowhead\" d=\"M3335.0,879.0 L3343.0,867.0 3327.0,867.0\" fill=\"currentColor\"/>\n",
       "</g>\n",
       "\n",
       "<g class=\"displacy-arrow\">\n",
       "    <path class=\"displacy-arc\" id=\"arrow-33b26785594f4375b761807ebd18e793-0-19\" stroke-width=\"2px\" d=\"M3395,877.0 C3395,789.5 3505.0,789.5 3505.0,877.0\" fill=\"none\" stroke=\"currentColor\"/>\n",
       "    <text dy=\"1.25em\" style=\"font-size: 0.8em; letter-spacing: 1px\">\n",
       "        <textPath xlink:href=\"#arrow-33b26785594f4375b761807ebd18e793-0-19\" class=\"displacy-label\" startOffset=\"50%\" side=\"left\" fill=\"currentColor\" text-anchor=\"middle\">nmod</textPath>\n",
       "    </text>\n",
       "    <path class=\"displacy-arrowhead\" d=\"M3505.0,879.0 L3513.0,867.0 3497.0,867.0\" fill=\"currentColor\"/>\n",
       "</g>\n",
       "\n",
       "<g class=\"displacy-arrow\">\n",
       "    <path class=\"displacy-arc\" id=\"arrow-33b26785594f4375b761807ebd18e793-0-20\" stroke-width=\"2px\" d=\"M3570,877.0 C3570,789.5 3680.0,789.5 3680.0,877.0\" fill=\"none\" stroke=\"currentColor\"/>\n",
       "    <text dy=\"1.25em\" style=\"font-size: 0.8em; letter-spacing: 1px\">\n",
       "        <textPath xlink:href=\"#arrow-33b26785594f4375b761807ebd18e793-0-20\" class=\"displacy-label\" startOffset=\"50%\" side=\"left\" fill=\"currentColor\" text-anchor=\"middle\">conj</textPath>\n",
       "    </text>\n",
       "    <path class=\"displacy-arrowhead\" d=\"M3680.0,879.0 L3688.0,867.0 3672.0,867.0\" fill=\"currentColor\"/>\n",
       "</g>\n",
       "\n",
       "<g class=\"displacy-arrow\">\n",
       "    <path class=\"displacy-arc\" id=\"arrow-33b26785594f4375b761807ebd18e793-0-21\" stroke-width=\"2px\" d=\"M2695,877.0 C2695,439.5 3875.0,439.5 3875.0,877.0\" fill=\"none\" stroke=\"currentColor\"/>\n",
       "    <text dy=\"1.25em\" style=\"font-size: 0.8em; letter-spacing: 1px\">\n",
       "        <textPath xlink:href=\"#arrow-33b26785594f4375b761807ebd18e793-0-21\" class=\"displacy-label\" startOffset=\"50%\" side=\"left\" fill=\"currentColor\" text-anchor=\"middle\">obl</textPath>\n",
       "    </text>\n",
       "    <path class=\"displacy-arrowhead\" d=\"M3875.0,879.0 L3883.0,867.0 3867.0,867.0\" fill=\"currentColor\"/>\n",
       "</g>\n",
       "\n",
       "<g class=\"displacy-arrow\">\n",
       "    <path class=\"displacy-arc\" id=\"arrow-33b26785594f4375b761807ebd18e793-0-22\" stroke-width=\"2px\" d=\"M3920,877.0 C3920,789.5 4030.0,789.5 4030.0,877.0\" fill=\"none\" stroke=\"currentColor\"/>\n",
       "    <text dy=\"1.25em\" style=\"font-size: 0.8em; letter-spacing: 1px\">\n",
       "        <textPath xlink:href=\"#arrow-33b26785594f4375b761807ebd18e793-0-22\" class=\"displacy-label\" startOffset=\"50%\" side=\"left\" fill=\"currentColor\" text-anchor=\"middle\">appos</textPath>\n",
       "    </text>\n",
       "    <path class=\"displacy-arrowhead\" d=\"M4030.0,879.0 L4038.0,867.0 4022.0,867.0\" fill=\"currentColor\"/>\n",
       "</g>\n",
       "\n",
       "<g class=\"displacy-arrow\">\n",
       "    <path class=\"displacy-arc\" id=\"arrow-33b26785594f4375b761807ebd18e793-0-23\" stroke-width=\"2px\" d=\"M4095,877.0 C4095,789.5 4205.0,789.5 4205.0,877.0\" fill=\"none\" stroke=\"currentColor\"/>\n",
       "    <text dy=\"1.25em\" style=\"font-size: 0.8em; letter-spacing: 1px\">\n",
       "        <textPath xlink:href=\"#arrow-33b26785594f4375b761807ebd18e793-0-23\" class=\"displacy-label\" startOffset=\"50%\" side=\"left\" fill=\"currentColor\" text-anchor=\"middle\">nmod</textPath>\n",
       "    </text>\n",
       "    <path class=\"displacy-arrowhead\" d=\"M4205.0,879.0 L4213.0,867.0 4197.0,867.0\" fill=\"currentColor\"/>\n",
       "</g>\n",
       "\n",
       "<g class=\"displacy-arrow\">\n",
       "    <path class=\"displacy-arc\" id=\"arrow-33b26785594f4375b761807ebd18e793-0-24\" stroke-width=\"2px\" d=\"M4445,877.0 C4445,789.5 4555.0,789.5 4555.0,877.0\" fill=\"none\" stroke=\"currentColor\"/>\n",
       "    <text dy=\"1.25em\" style=\"font-size: 0.8em; letter-spacing: 1px\">\n",
       "        <textPath xlink:href=\"#arrow-33b26785594f4375b761807ebd18e793-0-24\" class=\"displacy-label\" startOffset=\"50%\" side=\"left\" fill=\"currentColor\" text-anchor=\"middle\">cc</textPath>\n",
       "    </text>\n",
       "    <path class=\"displacy-arrowhead\" d=\"M4445,879.0 L4437,867.0 4453,867.0\" fill=\"currentColor\"/>\n",
       "</g>\n",
       "\n",
       "<g class=\"displacy-arrow\">\n",
       "    <path class=\"displacy-arc\" id=\"arrow-33b26785594f4375b761807ebd18e793-0-25\" stroke-width=\"2px\" d=\"M4095,877.0 C4095,614.5 4565.0,614.5 4565.0,877.0\" fill=\"none\" stroke=\"currentColor\"/>\n",
       "    <text dy=\"1.25em\" style=\"font-size: 0.8em; letter-spacing: 1px\">\n",
       "        <textPath xlink:href=\"#arrow-33b26785594f4375b761807ebd18e793-0-25\" class=\"displacy-label\" startOffset=\"50%\" side=\"left\" fill=\"currentColor\" text-anchor=\"middle\">conj</textPath>\n",
       "    </text>\n",
       "    <path class=\"displacy-arrowhead\" d=\"M4565.0,879.0 L4573.0,867.0 4557.0,867.0\" fill=\"currentColor\"/>\n",
       "</g>\n",
       "\n",
       "<g class=\"displacy-arrow\">\n",
       "    <path class=\"displacy-arc\" id=\"arrow-33b26785594f4375b761807ebd18e793-0-26\" stroke-width=\"2px\" d=\"M4795,877.0 C4795,789.5 4905.0,789.5 4905.0,877.0\" fill=\"none\" stroke=\"currentColor\"/>\n",
       "    <text dy=\"1.25em\" style=\"font-size: 0.8em; letter-spacing: 1px\">\n",
       "        <textPath xlink:href=\"#arrow-33b26785594f4375b761807ebd18e793-0-26\" class=\"displacy-label\" startOffset=\"50%\" side=\"left\" fill=\"currentColor\" text-anchor=\"middle\">case</textPath>\n",
       "    </text>\n",
       "    <path class=\"displacy-arrowhead\" d=\"M4795,879.0 L4787,867.0 4803,867.0\" fill=\"currentColor\"/>\n",
       "</g>\n",
       "\n",
       "<g class=\"displacy-arrow\">\n",
       "    <path class=\"displacy-arc\" id=\"arrow-33b26785594f4375b761807ebd18e793-0-27\" stroke-width=\"2px\" d=\"M2695,877.0 C2695,177.0 4940.0,177.0 4940.0,877.0\" fill=\"none\" stroke=\"currentColor\"/>\n",
       "    <text dy=\"1.25em\" style=\"font-size: 0.8em; letter-spacing: 1px\">\n",
       "        <textPath xlink:href=\"#arrow-33b26785594f4375b761807ebd18e793-0-27\" class=\"displacy-label\" startOffset=\"50%\" side=\"left\" fill=\"currentColor\" text-anchor=\"middle\">obl:arg</textPath>\n",
       "    </text>\n",
       "    <path class=\"displacy-arrowhead\" d=\"M4940.0,879.0 L4948.0,867.0 4932.0,867.0\" fill=\"currentColor\"/>\n",
       "</g>\n",
       "\n",
       "<g class=\"displacy-arrow\">\n",
       "    <path class=\"displacy-arc\" id=\"arrow-33b26785594f4375b761807ebd18e793-0-28\" stroke-width=\"2px\" d=\"M5145,877.0 C5145,789.5 5255.0,789.5 5255.0,877.0\" fill=\"none\" stroke=\"currentColor\"/>\n",
       "    <text dy=\"1.25em\" style=\"font-size: 0.8em; letter-spacing: 1px\">\n",
       "        <textPath xlink:href=\"#arrow-33b26785594f4375b761807ebd18e793-0-28\" class=\"displacy-label\" startOffset=\"50%\" side=\"left\" fill=\"currentColor\" text-anchor=\"middle\">case</textPath>\n",
       "    </text>\n",
       "    <path class=\"displacy-arrowhead\" d=\"M5145,879.0 L5137,867.0 5153,867.0\" fill=\"currentColor\"/>\n",
       "</g>\n",
       "\n",
       "<g class=\"displacy-arrow\">\n",
       "    <path class=\"displacy-arc\" id=\"arrow-33b26785594f4375b761807ebd18e793-0-29\" stroke-width=\"2px\" d=\"M4970,877.0 C4970,702.0 5260.0,702.0 5260.0,877.0\" fill=\"none\" stroke=\"currentColor\"/>\n",
       "    <text dy=\"1.25em\" style=\"font-size: 0.8em; letter-spacing: 1px\">\n",
       "        <textPath xlink:href=\"#arrow-33b26785594f4375b761807ebd18e793-0-29\" class=\"displacy-label\" startOffset=\"50%\" side=\"left\" fill=\"currentColor\" text-anchor=\"middle\">nmod</textPath>\n",
       "    </text>\n",
       "    <path class=\"displacy-arrowhead\" d=\"M5260.0,879.0 L5268.0,867.0 5252.0,867.0\" fill=\"currentColor\"/>\n",
       "</g>\n",
       "</svg></span>"
      ],
      "text/plain": [
       "<IPython.core.display.HTML object>"
      ]
     },
     "metadata": {},
     "output_type": "display_data"
    }
   ],
   "source": [
    "about_interest_text = ('bulion – mocny rosół, odtłuszczony i podawany na ciepło lub zimno;'\n",
    "     'bulion – wywar z kości, mięsa, warzyw, służący do gotowania lub duszenia potraw, zup, sosów;.'\n",
    "     'bulion – koncentrat mięsny lub warzywny, do rozpuszczenia w wodzie.')\n",
    "about_interest_doc = nlp(about_interest_text)\n",
    "displacy.render(about_interest_doc, style='dep', jupyter=True)"
   ]
  },
  {
   "cell_type": "markdown",
   "metadata": {},
   "source": [
    "Preprocessing Functions"
   ]
  },
  {
   "cell_type": "code",
   "execution_count": 27,
   "metadata": {},
   "outputs": [
    {
     "data": {
      "text/plain": [
       "['mięso',\n",
       " 'pokroić',\n",
       " 'kostka',\n",
       " 'cebula',\n",
       " 'pokroić',\n",
       " 'kosteczka',\n",
       " 'zeszklić',\n",
       " 'olej',\n",
       " 'duży',\n",
       " 'garnek',\n",
       " 'dodać',\n",
       " 'mięso',\n",
       " 'dokładnie',\n",
       " 'obsmażyć',\n",
       " 'wlać',\n",
       " '2',\n",
       " 'szklanka',\n",
       " 'gorący',\n",
       " 'bulion',\n",
       " 'woda',\n",
       " 'sól',\n",
       " 'pieprz',\n",
       " 'zagotować',\n",
       " 'następnie',\n",
       " 'dodać',\n",
       " 'połamać',\n",
       " 'suszyć',\n",
       " 'grzyb',\n",
       " 'przykryć',\n",
       " 'zmniejszyć',\n",
       " 'ogień',\n",
       " 'gotować',\n",
       " '45',\n",
       " 'minuta',\n",
       " 'dodać',\n",
       " 'listek',\n",
       " 'laurowy',\n",
       " 'ziele',\n",
       " 'angielski',\n",
       " 'kminek',\n",
       " 'majeranek',\n",
       " 'powidło',\n",
       " 'śliwkowy',\n",
       " 'posiekać',\n",
       " 'śliwka',\n",
       " 'obrać',\n",
       " 'pokroić',\n",
       " 'kosteczka',\n",
       " 'obrać',\n",
       " 'jabłko',\n",
       " 'wymieszać',\n",
       " 'dodać',\n",
       " 'odcisnąć',\n",
       " 'kisić',\n",
       " 'kapusta',\n",
       " 'wlać',\n",
       " 'szklanka',\n",
       " 'woda',\n",
       " 'wymieszać',\n",
       " 'przykryć',\n",
       " 'gotować',\n",
       " '15',\n",
       " 'minuta',\n",
       " 'kiełbasa',\n",
       " 'obrać',\n",
       " 'skóra',\n",
       " 'pokroić',\n",
       " 'kostka',\n",
       " 'podsmażyć',\n",
       " 'patelnia',\n",
       " 'dodać',\n",
       " 'kapusta',\n",
       " 'gotować',\n",
       " '30',\n",
       " 'minuta',\n",
       " 'koniec',\n",
       " 'dodać',\n",
       " 'koncentrat',\n",
       " 'pomidorowy']"
      ]
     },
     "execution_count": 27,
     "metadata": {},
     "output_type": "execute_result"
    }
   ],
   "source": [
    "def is_token_allowed(token):\n",
    "     if (not token or not token.string.strip() or\n",
    "         token.is_stop or token.is_punct):\n",
    "         return False\n",
    "     return True\n",
    "\n",
    "def preprocess_token(token):\n",
    "\n",
    "     return token.lemma_.strip().lower()\n",
    "\n",
    "complete_filtered_tokens = [preprocess_token(token)\n",
    "    for token in complete_doc if is_token_allowed(token)]\n",
    "complete_filtered_tokens"
   ]
  },
  {
   "cell_type": "markdown",
   "metadata": {},
   "source": [
    "Rule-Based Matching Using spaCy"
   ]
  },
  {
   "cell_type": "markdown",
   "metadata": {},
   "source": [
    "With rule-based matching, you can extract a first name and a last name, which are always proper nouns:"
   ]
  },
  {
   "cell_type": "code",
   "execution_count": 40,
   "metadata": {},
   "outputs": [],
   "source": [
    "matcher = Matcher(nlp.vocab)\n",
    "text_surname = 'Mam na imię Adam Smith i mieszkam w Gdyni'\n",
    "nlp_nazwisko = nlp(text_surname)\n",
    "def extract_full_name(nlp_doc):\n",
    "     pattern = [{'POS': 'PROPN'}, {'POS': 'PROPN'}]\n",
    "     matcher.add('FULL_NAME', None, pattern)\n",
    "     matches = matcher(nlp_doc)\n",
    "     for match_id, start, end in matches:\n",
    "         span = nlp_nazwisko[start:end]\n",
    "         return span.text\n",
    "\n",
    "extract_full_name(nlp_nazwisko)"
   ]
  },
  {
   "cell_type": "markdown",
   "metadata": {},
   "source": [
    "You can also use rule-based matching to extract phone numbers:"
   ]
  },
  {
   "cell_type": "code",
   "execution_count": 38,
   "metadata": {},
   "outputs": [
    {
     "data": {
      "text/plain": [
       "'(123) 456-789'"
      ]
     },
     "execution_count": 38,
     "metadata": {},
     "output_type": "execute_result"
    }
   ],
   "source": [
    "matcher = Matcher(nlp.vocab)\n",
    "conference_org_text = ('Mój aktualny'\n",
    "    'nr telefonu to'\n",
    "    'dom: 694202137'\n",
    "    'stacjonarny: (123) 456-789')\n",
    "def extract_phone_number(nlp_doc):\n",
    "    pattern = [{'ORTH': '('}, {'SHAPE': 'ddd'},\n",
    "               {'ORTH': ')'}, {'SHAPE': 'ddd'},\n",
    "               {'ORTH': '-', 'OP': '?'},\n",
    "               {'SHAPE': 'ddd'}]\n",
    "    matcher.add('PHONE_NUMBER', None, pattern)\n",
    "    matches = matcher(nlp_doc)\n",
    "    for match_id, start, end in matches:\n",
    "        span = nlp_doc[start:end]\n",
    "        return span.text\n",
    "conference_org_doc = nlp(conference_org_text)\n",
    "extract_phone_number(conference_org_doc)"
   ]
  },
  {
   "cell_type": "markdown",
   "metadata": {},
   "source": [
    "Dependency Parsing Using spaCy"
   ]
  },
  {
   "cell_type": "code",
   "execution_count": 41,
   "metadata": {},
   "outputs": [
    {
     "name": "stdout",
     "output_type": "stream",
     "text": [
      "Emanuel SUBST dzikiem nsubj\n",
      "jest FIN dzikiem cop\n",
      "dzikiem SUBST dzikiem ROOT\n",
      "SW SUBST dzikiem nmod\n"
     ]
    }
   ],
   "source": [
    "text = 'Emanuel jest dzikiem SW'\n",
    "doc = nlp(text)\n",
    "for token in doc:\n",
    "   print (token.text, token.tag_, token.head.text, token.dep_)"
   ]
  },
  {
   "cell_type": "markdown",
   "metadata": {},
   "source": [
    "There is a detailed list of relationships with descriptions. You can use displaCy to visualize the dependency tree:"
   ]
  },
  {
   "cell_type": "code",
   "execution_count": 43,
   "metadata": {},
   "outputs": [
    {
     "data": {
      "text/html": [
       "<span class=\"tex2jax_ignore\"><!DOCTYPE html>\n",
       "<html lang=\"pl\">\n",
       "    <head>\n",
       "        <title>displaCy</title>\n",
       "    </head>\n",
       "\n",
       "    <body style=\"font-size: 16px; font-family: -apple-system, BlinkMacSystemFont, 'Segoe UI', Helvetica, Arial, sans-serif, 'Apple Color Emoji', 'Segoe UI Emoji', 'Segoe UI Symbol'; padding: 4rem 2rem; direction: ltr\">\n",
       "<figure style=\"margin-bottom: 6rem\">\n",
       "<svg xmlns=\"http://www.w3.org/2000/svg\" xmlns:xlink=\"http://www.w3.org/1999/xlink\" xml:lang=\"pl\" id=\"d3b12b0f84184628af51d4eb5077d532-0\" class=\"displacy\" width=\"750\" height=\"312.0\" direction=\"ltr\" style=\"max-width: none; height: 312.0px; color: #000000; background: #ffffff; font-family: Arial; direction: ltr\">\n",
       "<text class=\"displacy-token\" fill=\"currentColor\" text-anchor=\"middle\" y=\"222.0\">\n",
       "    <tspan class=\"displacy-word\" fill=\"currentColor\" x=\"50\">Emanuel</tspan>\n",
       "    <tspan class=\"displacy-tag\" dy=\"2em\" fill=\"currentColor\" x=\"50\">NOUN</tspan>\n",
       "</text>\n",
       "\n",
       "<text class=\"displacy-token\" fill=\"currentColor\" text-anchor=\"middle\" y=\"222.0\">\n",
       "    <tspan class=\"displacy-word\" fill=\"currentColor\" x=\"225\">jest</tspan>\n",
       "    <tspan class=\"displacy-tag\" dy=\"2em\" fill=\"currentColor\" x=\"225\">VERB</tspan>\n",
       "</text>\n",
       "\n",
       "<text class=\"displacy-token\" fill=\"currentColor\" text-anchor=\"middle\" y=\"222.0\">\n",
       "    <tspan class=\"displacy-word\" fill=\"currentColor\" x=\"400\">dzikiem</tspan>\n",
       "    <tspan class=\"displacy-tag\" dy=\"2em\" fill=\"currentColor\" x=\"400\">NOUN</tspan>\n",
       "</text>\n",
       "\n",
       "<text class=\"displacy-token\" fill=\"currentColor\" text-anchor=\"middle\" y=\"222.0\">\n",
       "    <tspan class=\"displacy-word\" fill=\"currentColor\" x=\"575\">SW</tspan>\n",
       "    <tspan class=\"displacy-tag\" dy=\"2em\" fill=\"currentColor\" x=\"575\">NOUN</tspan>\n",
       "</text>\n",
       "\n",
       "<g class=\"displacy-arrow\">\n",
       "    <path class=\"displacy-arc\" id=\"arrow-d3b12b0f84184628af51d4eb5077d532-0-0\" stroke-width=\"2px\" d=\"M70,177.0 C70,2.0 400.0,2.0 400.0,177.0\" fill=\"none\" stroke=\"currentColor\"/>\n",
       "    <text dy=\"1.25em\" style=\"font-size: 0.8em; letter-spacing: 1px\">\n",
       "        <textPath xlink:href=\"#arrow-d3b12b0f84184628af51d4eb5077d532-0-0\" class=\"displacy-label\" startOffset=\"50%\" side=\"left\" fill=\"currentColor\" text-anchor=\"middle\">nsubj</textPath>\n",
       "    </text>\n",
       "    <path class=\"displacy-arrowhead\" d=\"M70,179.0 L62,167.0 78,167.0\" fill=\"currentColor\"/>\n",
       "</g>\n",
       "\n",
       "<g class=\"displacy-arrow\">\n",
       "    <path class=\"displacy-arc\" id=\"arrow-d3b12b0f84184628af51d4eb5077d532-0-1\" stroke-width=\"2px\" d=\"M245,177.0 C245,89.5 395.0,89.5 395.0,177.0\" fill=\"none\" stroke=\"currentColor\"/>\n",
       "    <text dy=\"1.25em\" style=\"font-size: 0.8em; letter-spacing: 1px\">\n",
       "        <textPath xlink:href=\"#arrow-d3b12b0f84184628af51d4eb5077d532-0-1\" class=\"displacy-label\" startOffset=\"50%\" side=\"left\" fill=\"currentColor\" text-anchor=\"middle\">cop</textPath>\n",
       "    </text>\n",
       "    <path class=\"displacy-arrowhead\" d=\"M245,179.0 L237,167.0 253,167.0\" fill=\"currentColor\"/>\n",
       "</g>\n",
       "\n",
       "<g class=\"displacy-arrow\">\n",
       "    <path class=\"displacy-arc\" id=\"arrow-d3b12b0f84184628af51d4eb5077d532-0-2\" stroke-width=\"2px\" d=\"M420,177.0 C420,89.5 570.0,89.5 570.0,177.0\" fill=\"none\" stroke=\"currentColor\"/>\n",
       "    <text dy=\"1.25em\" style=\"font-size: 0.8em; letter-spacing: 1px\">\n",
       "        <textPath xlink:href=\"#arrow-d3b12b0f84184628af51d4eb5077d532-0-2\" class=\"displacy-label\" startOffset=\"50%\" side=\"left\" fill=\"currentColor\" text-anchor=\"middle\">nmod</textPath>\n",
       "    </text>\n",
       "    <path class=\"displacy-arrowhead\" d=\"M570.0,179.0 L578.0,167.0 562.0,167.0\" fill=\"currentColor\"/>\n",
       "</g>\n",
       "</svg>\n",
       "</figure>\n",
       "</body>\n",
       "</html></span>"
      ],
      "text/plain": [
       "<IPython.core.display.HTML object>"
      ]
     },
     "metadata": {},
     "output_type": "display_data"
    },
    {
     "name": "stdout",
     "output_type": "stream",
     "text": [
      "\n",
      "Using the 'dep' visualizer\n",
      "Serving on http://0.0.0.0:5000 ...\n",
      "\n",
      "Shutting down server on port 5000.\n"
     ]
    }
   ],
   "source": [
    "displacy.serve(doc, style='dep')"
   ]
  },
  {
   "cell_type": "markdown",
   "metadata": {},
   "source": [
    "Navigating the Tree and Subtree"
   ]
  },
  {
   "cell_type": "markdown",
   "metadata": {},
   "source": [
    "spaCy provides attributes like children, lefts, rights, and subtree to navigate the parse tree:"
   ]
  },
  {
   "cell_type": "code",
   "execution_count": 46,
   "metadata": {},
   "outputs": [
    {
     "name": "stdout",
     "output_type": "stream",
     "text": [
      "['backlevery']\n",
      "SWHolduje\n",
      "backlevery\n",
      "[]\n",
      "['backlevery']\n",
      "[kozak, backlevery, w, fullu]\n"
     ]
    }
   ],
   "source": [
    "one_line_about_text = ('Emanuel Kosowski jest dzikiem SW'\n",
    "   'Holduje kozak backlevery w fullu')\n",
    "one_line_about_doc = nlp(one_line_about_text)\n",
    "print([token.text for token in one_line_about_doc[5].children])\n",
    "print (one_line_about_doc[5].nbor(-1))\n",
    "print (one_line_about_doc[5].nbor())\n",
    "print([token.text for token in one_line_about_doc[5].lefts])\n",
    "print([token.text for token in one_line_about_doc[5].rights])\n",
    "print (list(one_line_about_doc[5].subtree))"
   ]
  },
  {
   "cell_type": "markdown",
   "metadata": {},
   "source": [
    "You can construct a function that takes a subtree as an argument and returns a string by merging words in it:"
   ]
  },
  {
   "cell_type": "code",
   "execution_count": 47,
   "metadata": {},
   "outputs": [
    {
     "name": "stdout",
     "output_type": "stream",
     "text": [
      "kozak backlevery w fullu\n"
     ]
    }
   ],
   "source": [
    "def flatten_tree(tree):\n",
    "   return ''.join([token.text_with_ws for token in list(tree)]).strip()\n",
    "print (flatten_tree(one_line_about_doc[5].subtree))"
   ]
  },
  {
   "cell_type": "markdown",
   "metadata": {},
   "source": [
    "Shallow Parsing"
   ]
  },
  {
   "cell_type": "markdown",
   "metadata": {},
   "source": [
    "spaCy has the property noun_chunks on Doc object. You can use it to extract noun phrases:"
   ]
  },
  {
   "cell_type": "code",
   "execution_count": 50,
   "metadata": {},
   "outputs": [],
   "source": [
    "conference_text = ('Nadchodzą targi Gamedev wraz GameJam'\n",
    "    'Odbywać się będą na HSW w Gdyni, 19 maja 2021')\n",
    "conference_doc = nlp(conference_text)\n",
    "for chunk in conference_doc.noun_chunks:\n",
    "    print (chunk)"
   ]
  },
  {
   "cell_type": "markdown",
   "metadata": {},
   "source": [
    "Verb Phrase Detection"
   ]
  },
  {
   "cell_type": "code",
   "execution_count": 3,
   "metadata": {},
   "outputs": [
    {
     "name": "stdout",
     "output_type": "stream",
     "text": [
      "pokaże\n"
     ]
    },
    {
     "name": "stderr",
     "output_type": "stream",
     "text": [
      "c:\\users\\emanuel\\appdata\\local\\programs\\python\\python39\\lib\\site-packages\\textacy\\extract.py:334: DeprecationWarning: `pos_regex_matches()` has been deprecated! for similar but more powerful and performant functionality, use `textacy.extract.matches()` instead.\n",
      "  utils.deprecated(\n"
     ]
    }
   ],
   "source": [
    "about_talk_text = ('Ten tekst pokaże zastosowanie'\n",
    "                   'zastosowanie Natural Language Processing w'\n",
    "                   'w textacy')\n",
    "pattern = r'(<VERB>?<ADV>*<VERB>+)'\n",
    "about_talk_doc = textacy.make_spacy_doc(about_talk_text,\n",
    "                                        lang='pl_core_news_sm')\n",
    "verb_phrases = textacy.extract.pos_regex_matches(about_talk_doc, pattern)\n",
    "for chunk in verb_phrases:\n",
    "    print(chunk.text)"
   ]
  },
  {
   "cell_type": "code",
   "execution_count": 5,
   "metadata": {},
   "outputs": [],
   "source": [
    "for chunk in about_talk_doc.noun_chunks:\n",
    "    print (chunk)"
   ]
  },
  {
   "cell_type": "markdown",
   "metadata": {},
   "source": [
    "Named Entity Recognition"
   ]
  },
  {
   "cell_type": "markdown",
   "metadata": {},
   "source": [
    "spaCy has the property ents on Doc objects. You can use it to extract named entities:"
   ]
  },
  {
   "cell_type": "code",
   "execution_count": 7,
   "metadata": {},
   "outputs": [],
   "source": [
    "class_text = ('Mięso pokroić w kostkę. Cebulę pokroić w kosteczkę i zeszklić na oleju w dużym garnku. Dodać mięso i dokładnie je obsmażyć. ' \n",
    "                'Wlać 2 szklanki gorącego bulionu lub wody z solą i pieprzem, zagotować. Następnie dodać połamane suszone grzyby, przykryć, zmniejszyć ogień i gotować przez ok. 45 minut.'\n",
    "                'Dodać listek laurowy, ziela angielskie, kminek, majeranek, powidła śliwkowe lub posiekane śliwki, obrane i pokrojone w kosteczkę obrane jabłko i wymieszać.')\n",
    "class_doc = nlp(class_text)\n",
    "for ent in class_doc.ents:\n",
    "    print(ent.text, ent.start_char, ent.end_char,\n",
    "         ent.label_, spacy.explain(ent.label_))"
   ]
  },
  {
   "cell_type": "code",
   "execution_count": null,
   "metadata": {},
   "outputs": [
    {
     "name": "stderr",
     "output_type": "stream",
     "text": [
      "c:\\users\\emanuel\\appdata\\local\\programs\\python\\python39\\lib\\site-packages\\spacy\\displacy\\__init__.py:94: UserWarning: [W011] It looks like you're calling displacy.serve from within a Jupyter notebook or a similar environment. This likely means you're already running a local web server, so there's no need to make displaCy start another one. Instead, you should be able to replace displacy.serve with displacy.render to show the visualization.\n",
      "  warnings.warn(Warnings.W011)\n",
      "c:\\users\\emanuel\\appdata\\local\\programs\\python\\python39\\lib\\site-packages\\spacy\\displacy\\__init__.py:189: UserWarning: [W006] No entities to visualize found in Doc object. If this is surprising to you, make sure the Doc was processed using a model that supports named entity recognition, and check the `doc.ents` property manually if necessary.\n",
      "  warnings.warn(Warnings.W006)\n"
     ]
    },
    {
     "data": {
      "text/html": [
       "<span class=\"tex2jax_ignore\"><!DOCTYPE html>\n",
       "<html lang=\"pl\">\n",
       "    <head>\n",
       "        <title>displaCy</title>\n",
       "    </head>\n",
       "\n",
       "    <body style=\"font-size: 16px; font-family: -apple-system, BlinkMacSystemFont, 'Segoe UI', Helvetica, Arial, sans-serif, 'Apple Color Emoji', 'Segoe UI Emoji', 'Segoe UI Symbol'; padding: 4rem 2rem; direction: ltr\">\n",
       "<figure style=\"margin-bottom: 6rem\">\n",
       "<div class=\"entities\" style=\"line-height: 2.5; direction: ltr\">Mięso pokroić w kostkę. Cebulę pokroić w kosteczkę i zeszklić na oleju w dużym garnku. Dodać mięso i dokładnie je obsmażyć. Wlać 2 szklanki gorącego bulionu lub wody z solą i pieprzem, zagotować. Następnie dodać połamane suszone grzyby, przykryć, zmniejszyć ogień i gotować przez ok. 45 minut.Dodać listek laurowy, ziela angielskie, kminek, majeranek, powidła śliwkowe lub posiekane śliwki, obrane i pokrojone w kosteczkę obrane jabłko i wymieszać.</div>\n",
       "</figure>\n",
       "</body>\n",
       "</html></span>"
      ],
      "text/plain": [
       "<IPython.core.display.HTML object>"
      ]
     },
     "metadata": {},
     "output_type": "display_data"
    },
    {
     "name": "stdout",
     "output_type": "stream",
     "text": [
      "\n",
      "Using the 'ent' visualizer\n",
      "Serving on http://0.0.0.0:5000 ...\n",
      "\n"
     ]
    }
   ],
   "source": [
    "displacy.serve(class_doc, style='ent')"
   ]
  },
  {
   "cell_type": "code",
   "execution_count": null,
   "metadata": {},
   "outputs": [],
   "source": []
  }
 ],
 "metadata": {
  "kernelspec": {
   "display_name": "Python 3",
   "language": "python",
   "name": "python3"
  },
  "language_info": {
   "codemirror_mode": {
    "name": "ipython",
    "version": 3
   },
   "file_extension": ".py",
   "mimetype": "text/x-python",
   "name": "python",
   "nbconvert_exporter": "python",
   "pygments_lexer": "ipython3",
   "version": "3.9.0"
  }
 },
 "nbformat": 4,
 "nbformat_minor": 4
}
