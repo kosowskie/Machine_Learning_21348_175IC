{
 "cells": [
  {
   "cell_type": "code",
   "execution_count": 10,
   "metadata": {},
   "outputs": [],
   "source": [
    "import os\n",
    "from urllib import request\n",
    "from imgurpython import ImgurClient\n",
    "import timeit\n",
    "import time\n",
    "import requests\n",
    "import json\n",
    "import Lab10_multiprocessing_part2 as multiprocessing_file\n",
    "from concurrent.futures import ThreadPoolExecutor\n",
    "import multiprocessing\n",
    "import nest_asyncio\n",
    "nest_asyncio.apply()\n",
    "import asyncio\n",
    "import aiohttp"
   ]
  },
  {
   "cell_type": "code",
   "execution_count": 3,
   "metadata": {},
   "outputs": [
    {
     "name": "stdout",
     "output_type": "stream",
     "text": [
      "Time taken to download 30 images into the downloads folder synchronously: 32.752798557281494\n"
     ]
    }
   ],
   "source": [
    "def download_images():\n",
    "    response = requests.get(\"https://picsum.photos/v2/list\")\n",
    "    if response.status_code != 200:\n",
    "        raise AttributeError('GET /tasks/ {}'.format(response.status_code))\n",
    "    data = json.loads(response.text)\n",
    "\n",
    "    pictures=[]\n",
    "    for s in data:\n",
    "        pictures.append(s['download_url']+\".jpg\")\n",
    "    return pictures\n",
    "\n",
    "def saveImages(link):\n",
    "    filename = link.split('/')[6].split('.')[0]\n",
    "    fileformat = link.split('/')[6].split('.')[1]\n",
    "    request.urlretrieve(link, \"downloads/{}.{}\".format(filename, fileformat))\n",
    "\n",
    "def main():\n",
    "    images = download_images()\n",
    "    for image in images:\n",
    "        saveImages(image)\n",
    "\n",
    "start_time = time.time()\n",
    "main()\n",
    "duration_synch = time.time() - start_time\n",
    "print(f\"Time taken to download 30 images into the downloads folder synchronously: {duration_synch}\")"
   ]
  },
  {
   "cell_type": "code",
   "execution_count": 19,
   "metadata": {},
   "outputs": [
    {
     "name": "stdout",
     "output_type": "stream",
     "text": [
      "Time taken to download 30 images into the downloads folder with multithreading: 7.226224422454834\n"
     ]
    }
   ],
   "source": [
    "def process_images_threading():\n",
    "    images = download_images()\n",
    "    with ThreadPoolExecutor(max_workers=5) as executor:\n",
    "        executor.map(saveImages,images)\n",
    "\n",
    "start_time = time.time()\n",
    "process_images_threading()\n",
    "duration_threading = time.time() - start_time\n",
    "print(f\"Time taken to download 30 images into the downloads folder with multithreading: {duration_threading}\")"
   ]
  },
  {
   "cell_type": "code",
   "execution_count": 4,
   "metadata": {},
   "outputs": [
    {
     "name": "stdout",
     "output_type": "stream",
     "text": [
      "Time taken to download 30 images into the downloads folder with multiprocessing: 9.249184131622314\n"
     ]
    }
   ],
   "source": [
    "def process_images_multiprocessing():\n",
    "    images = download_images()\n",
    "    pool = multiprocessing.Pool(multiprocessing.cpu_count())\n",
    "    pool.map(multiprocessing_file.multiprocessing_images,images)\n",
    "\n",
    "\n",
    "start_time = time.time()\n",
    "process_images_multiprocessing()\n",
    "duration_multiprocessing = time.time() - start_time\n",
    "print(f\"Time taken to download 30 images into the downloads folder with multiprocessing: {duration_multiprocessing}\")"
   ]
  },
  {
   "cell_type": "code",
   "execution_count": 13,
   "metadata": {},
   "outputs": [
    {
     "name": "stdout",
     "output_type": "stream",
     "text": [
      "Time taken to download 30 images into the downloads folder with asyncio: 3.49655818939209\n"
     ]
    }
   ],
   "source": [
    "async def download_images_asyncio(link, session):\n",
    "    filename = link.split('/')[6].split('.')[0]\n",
    "    fileformat = link.split('/')[6].split('.')[1]\n",
    "    async with session.get(link) as response:\n",
    "        with open(\"downloads/{}.{}\".format(filename, fileformat), 'wb') as fd:\n",
    "            async for data in response.content.iter_chunked(1024):\n",
    "                fd.write(data)\n",
    "\n",
    "async def main_asyncio():\n",
    "    images = download_images()\n",
    "\n",
    "    async with aiohttp.ClientSession() as session:\n",
    "        tasks=[download_images_asyncio(image,session)for image in images]\n",
    "        return await asyncio.gather(*tasks)\n",
    "\n",
    "start_time = time.time()\n",
    "asyncio.run(main_asyncio())\n",
    "duration_asyncio = time.time() - start_time\n",
    "print(f\"Time taken to download 30 images into the downloads folder with asyncio: {duration_asyncio}\")"
   ]
  }
 ],
 "metadata": {
  "kernelspec": {
   "display_name": "Python 3",
   "language": "python",
   "name": "python3"
  },
  "language_info": {
   "codemirror_mode": {
    "name": "ipython",
    "version": 3
   },
   "file_extension": ".py",
   "mimetype": "text/x-python",
   "name": "python",
   "nbconvert_exporter": "python",
   "pygments_lexer": "ipython3",
   "version": "3.9.0"
  }
 },
 "nbformat": 4,
 "nbformat_minor": 4
}
