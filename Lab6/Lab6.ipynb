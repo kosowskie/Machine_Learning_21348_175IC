{
 "cells": [
  {
   "cell_type": "markdown",
   "metadata": {},
   "source": [
    "Otwieranie i zamykanie pliku w Pythonie"
   ]
  },
  {
   "cell_type": "code",
   "execution_count": 1,
   "metadata": {},
   "outputs": [
    {
     "data": {
      "text/plain": [
       "<_io.TextIOWrapper name='kosowskie1.txt' mode='r' encoding='cp1250'>"
      ]
     },
     "execution_count": 1,
     "metadata": {},
     "output_type": "execute_result"
    }
   ],
   "source": [
    "file = open('kosowskie1.txt')\n",
    "file"
   ]
  },
  {
   "cell_type": "markdown",
   "metadata": {},
   "source": [
    "try-finally / with statements"
   ]
  },
  {
   "cell_type": "code",
   "execution_count": 2,
   "metadata": {},
   "outputs": [
    {
     "name": "stdout",
     "output_type": "stream",
     "text": [
      "processing data\n",
      "with processing data\n"
     ]
    }
   ],
   "source": [
    "reader = open('kosowskie1.txt')\n",
    "try:\n",
    "    print('processing data')\n",
    "finally:\n",
    "    reader.close()\n",
    "\n",
    "with open('kosowskie1.txt') as reader:\n",
    "    print('with processing data')"
   ]
  },
  {
   "cell_type": "markdown",
   "metadata": {},
   "source": [
    "Text File Types"
   ]
  },
  {
   "cell_type": "code",
   "execution_count": 3,
   "metadata": {},
   "outputs": [
    {
     "name": "stdout",
     "output_type": "stream",
     "text": [
      "<class '_io.TextIOWrapper'>\n",
      "<class '_io.TextIOWrapper'>\n",
      "<class '_io.TextIOWrapper'>\n",
      "<class '_io.BufferedReader'>\n",
      "<class '_io.BufferedWriter'>\n"
     ]
    }
   ],
   "source": [
    "with open('kosowskie1.txt') as file:\n",
    "    print(type(file))\n",
    "with open('kosowskie1.txt', 'r') as file:\n",
    "    print(type(file))\n",
    "with open('kosowskie1.txt', 'w') as file:\n",
    "    print(type(file))\n",
    "with open('kosowskie1.txt', 'rb') as file:\n",
    "    print(type(file))\n",
    "with open('kosowskie1.txt', 'wb') as file:\n",
    "    print(type(file))"
   ]
  },
  {
   "cell_type": "markdown",
   "metadata": {},
   "source": [
    "Raw File Types"
   ]
  },
  {
   "cell_type": "code",
   "execution_count": 4,
   "metadata": {},
   "outputs": [
    {
     "data": {
      "text/plain": [
       "_io.FileIO"
      ]
     },
     "execution_count": 4,
     "metadata": {},
     "output_type": "execute_result"
    }
   ],
   "source": [
    "file = open('kosowskie1.txt', 'rb', buffering=0)\n",
    "type(file)"
   ]
  },
  {
   "cell_type": "markdown",
   "metadata": {},
   "source": [
    "Reading and Writing Opened Files"
   ]
  },
  {
   "cell_type": "code",
   "execution_count": 6,
   "metadata": {},
   "outputs": [
    {
     "name": "stdout",
     "output_type": "stream",
     "text": [
      "Znaki specjalne $#@!1312/\n",
      "********\n",
      "Plik do odczytu\n"
     ]
    }
   ],
   "source": [
    "with open('kosowskie1.txt') as reader:\n",
    "    print(reader.read())"
   ]
  },
  {
   "cell_type": "code",
   "execution_count": 7,
   "metadata": {},
   "outputs": [
    {
     "name": "stdout",
     "output_type": "stream",
     "text": [
      "Znaki\n",
      " spec\n",
      "jalne\n",
      " $#@!\n",
      "1312/\n"
     ]
    }
   ],
   "source": [
    "with open('kosowskie1.txt', 'r') as reader:\n",
    "    \n",
    "    print(reader.readline(5))\n",
    "    \n",
    "    print(reader.readline(5))\n",
    "    print(reader.readline(5))\n",
    "    print(reader.readline(5))\n",
    "    print(reader.readline(5))"
   ]
  },
  {
   "cell_type": "code",
   "execution_count": 8,
   "metadata": {},
   "outputs": [
    {
     "data": {
      "text/plain": [
       "['Znaki specjalne $#@!1312/\\n', '********\\n', 'Plik do odczytu']"
      ]
     },
     "execution_count": 8,
     "metadata": {},
     "output_type": "execute_result"
    }
   ],
   "source": [
    "f = open('kosowskie1.txt')\n",
    "f.readlines()\n",
    "\n",
    "f = open('kosowskie1.txt')\n",
    "list(f)"
   ]
  },
  {
   "cell_type": "markdown",
   "metadata": {},
   "source": [
    "Iterating Over Each Line in the File"
   ]
  },
  {
   "cell_type": "code",
   "execution_count": 9,
   "metadata": {},
   "outputs": [
    {
     "name": "stdout",
     "output_type": "stream",
     "text": [
      "Znaki specjalne $#@!1312/\n",
      "********\n",
      "Plik do odczytu"
     ]
    }
   ],
   "source": [
    "with open('kosowskie1.txt', 'r') as reader:\n",
    "     line = reader.readline()\n",
    "     while line != '':\n",
    "         print(line, end='')\n",
    "         line = reader.readline()"
   ]
  },
  {
   "cell_type": "code",
   "execution_count": 10,
   "metadata": {},
   "outputs": [
    {
     "name": "stdout",
     "output_type": "stream",
     "text": [
      "Znaki specjalne $#@!1312/\n",
      "********\n",
      "Plik do odczytu"
     ]
    }
   ],
   "source": [
    "with open('kosowskie1.txt', 'r') as reader:\n",
    "     for line in reader.readlines():\n",
    "         print(line, end='')"
   ]
  },
  {
   "cell_type": "code",
   "execution_count": 11,
   "metadata": {},
   "outputs": [
    {
     "name": "stdout",
     "output_type": "stream",
     "text": [
      "Znaki specjalne $#@!1312/\n",
      "********\n",
      "Plik do odczytu"
     ]
    }
   ],
   "source": [
    "with open('kosowskie1.txt', 'r') as reader:\n",
    "     for line in reader:\n",
    "         print(line, end='')"
   ]
  },
  {
   "cell_type": "code",
   "execution_count": 12,
   "metadata": {},
   "outputs": [],
   "source": [
    "with open('kosowskie1.txt', 'r') as reader:\n",
    "    readOnly = reader.readlines()\n",
    "\n",
    "with open('kosowskie1.txt', 'w') as writer:\n",
    "    for word in reversed(readOnly):\n",
    "        writer.write(word)\n",
    "\n",
    "with open('kosowskie1.txt', 'w') as writer:\n",
    "    writer.writelines(reversed(readOnly))"
   ]
  },
  {
   "cell_type": "markdown",
   "metadata": {},
   "source": [
    "Working With Bytes"
   ]
  },
  {
   "cell_type": "code",
   "execution_count": 14,
   "metadata": {},
   "outputs": [
    {
     "name": "stdout",
     "output_type": "stream",
     "text": [
      "b''\n"
     ]
    }
   ],
   "source": [
    "with open('bity21348.txt', 'rb') as reader:\n",
    "     print(reader.readline())"
   ]
  },
  {
   "cell_type": "code",
   "execution_count": 15,
   "metadata": {},
   "outputs": [
    {
     "name": "stdout",
     "output_type": "stream",
     "text": [
      "b'\\x89'\n",
      "b'PNG'\n",
      "b'\\r\\n'\n",
      "b'\\x1a'\n",
      "b'\\n'\n"
     ]
    }
   ],
   "source": [
    "with open('A.png', 'rb') as byte_reader:\n",
    "     print(byte_reader.read(1))\n",
    "     print(byte_reader.read(3))\n",
    "     print(byte_reader.read(2))\n",
    "     print(byte_reader.read(1))\n",
    "     print(byte_reader.read(1))"
   ]
  },
  {
   "cell_type": "markdown",
   "metadata": {},
   "source": [
    "Appending to a File"
   ]
  },
  {
   "cell_type": "code",
   "execution_count": 16,
   "metadata": {},
   "outputs": [
    {
     "name": "stdout",
     "output_type": "stream",
     "text": [
      "Appending file by Emanuel Kosowski 21348\n",
      "Beagle\n",
      "Beagle\n"
     ]
    }
   ],
   "source": [
    "with open('AppendingKosowskie.txt', 'a') as a_writer:\n",
    "    a_writer.write('\\nBeagle')\n",
    "with open('AppendingKosowskie.txt', 'r') as reader:\n",
    "     print(reader.read())"
   ]
  },
  {
   "cell_type": "markdown",
   "metadata": {},
   "source": [
    "Working With Two Files at the Same Time"
   ]
  },
  {
   "cell_type": "code",
   "execution_count": 17,
   "metadata": {},
   "outputs": [],
   "source": [
    "d_path = 'AppendingKosowskie.txt'\n",
    "d_r_path = 'AppendingKosowskie2.txt'\n",
    "with open(d_path, 'r') as reader, open(d_r_path, 'w') as writer:\n",
    "    file_breeds = reader.readlines()\n",
    "    writer.writelines(reversed(file_breeds))"
   ]
  },
  {
   "cell_type": "markdown",
   "metadata": {},
   "source": [
    "Creating Your Own Context Manager"
   ]
  },
  {
   "cell_type": "code",
   "execution_count": 18,
   "metadata": {},
   "outputs": [],
   "source": [
    "class my_file_reader():\n",
    "    def __init__(self, file_path):\n",
    "        self.__path = file_path\n",
    "        self.__file_object = None\n",
    "\n",
    "    def __enter__(self):\n",
    "        self.__file_object = open(self.__path)\n",
    "        return self\n",
    "\n",
    "    def __exit__(self, type, val, tb):\n",
    "        self.__file_object.close()\n",
    "        \n",
    "with my_file_reader('kosowskie1.txt') as reader:\n",
    "    pass"
   ]
  },
  {
   "cell_type": "code",
   "execution_count": 20,
   "metadata": {},
   "outputs": [
    {
     "name": "stdout",
     "output_type": "stream",
     "text": [
      "00013, b'IHDR', b'\\xeb!\\xb3\\xcf'\n",
      "00006, b'bKGD', b'\\xa0\\xbd\\xa7\\x93'\n",
      "08192, b'IDAT', b'a\\x80\\x92\\xa6'\n",
      "08192, b'IDAT', b'\\xf0\\xb6\\xf2\\xf4'\n",
      "08192, b'IDAT', b'\\x97\\xef\\x96\\x9c'\n",
      "08192, b'IDAT', b'h\\xdc\\xb0\\xe0'\n",
      "08192, b'IDAT', b'@\\xf6\\xb1~'\n",
      "08192, b'IDAT', b'\\x96PVj'\n",
      "03384, b'IDAT', b'\\x1d\\x1e%8'\n",
      "00000, b'IEND', b'\\xaeB`\\x82'\n"
     ]
    }
   ],
   "source": [
    "class PngReader():\n",
    "    # Every .png file contains this in the header.  Use it to verify\n",
    "    # the file is indeed a .png.\n",
    "    _expected_magic = b'\\x89PNG\\r\\n\\x1a\\n'\n",
    "\n",
    "    def __init__(self, file_path):\n",
    "        # Ensure the file has the right extension\n",
    "        if not file_path.endswith('.png'):\n",
    "            raise NameError(\"File must be a '.png' extension\")\n",
    "        self.__path = file_path\n",
    "        self.__file_object = None\n",
    "\n",
    "    def __enter__(self):\n",
    "        self.__file_object = open(self.__path, 'rb')\n",
    "\n",
    "        magic = self.__file_object.read(8)\n",
    "        if magic != self._expected_magic:\n",
    "            raise TypeError(\"The File is not a properly formatted .png file!\")\n",
    "\n",
    "        return self\n",
    "\n",
    "    def __exit__(self, type, val, tb):\n",
    "        self.__file_object.close()\n",
    "\n",
    "    def __iter__(self):\n",
    "        # This and __next__() are used to create a custom iterator\n",
    "        # See https://dbader.org/blog/python-iterators\n",
    "        return self\n",
    "\n",
    "    def __next__(self):\n",
    "        # Read the file in \"Chunks\"\n",
    "        # See https://en.wikipedia.org/wiki/Portable_Network_Graphics#%22Chunks%22_within_the_file\n",
    "\n",
    "        initial_data = self.__file_object.read(4)\n",
    "\n",
    "        # The file hasn't been opened or reached EOF.  This means we\n",
    "        # can't go any further so stop the iteration by raising the\n",
    "        # StopIteration.\n",
    "        if self.__file_object is None or initial_data == b'':\n",
    "            raise StopIteration\n",
    "        else:\n",
    "            # Each chunk has a len, type, data (based on len) and crc\n",
    "            # Grab these values and return them as a tuple\n",
    "            chunk_len = int.from_bytes(initial_data, byteorder='big')\n",
    "            chunk_type = self.__file_object.read(4)\n",
    "            chunk_data = self.__file_object.read(chunk_len)\n",
    "            chunk_crc = self.__file_object.read(4)\n",
    "            return chunk_len, chunk_type, chunk_data, chunk_crc\n",
    "\n",
    "with PngReader('A.png') as reader:\n",
    "    for l, t, d, c in reader:\n",
    "        print(f\"{l:05}, {t}, {c}\")"
   ]
  },
  {
   "cell_type": "code",
   "execution_count": null,
   "metadata": {},
   "outputs": [],
   "source": []
  }
 ],
 "metadata": {
  "kernelspec": {
   "display_name": "Python 3",
   "language": "python",
   "name": "python3"
  },
  "language_info": {
   "codemirror_mode": {
    "name": "ipython",
    "version": 3
   },
   "file_extension": ".py",
   "mimetype": "text/x-python",
   "name": "python",
   "nbconvert_exporter": "python",
   "pygments_lexer": "ipython3",
   "version": "3.9.0"
  }
 },
 "nbformat": 4,
 "nbformat_minor": 4
}
