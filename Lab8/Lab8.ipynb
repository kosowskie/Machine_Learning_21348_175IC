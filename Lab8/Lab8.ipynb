{
 "cells": [
  {
   "cell_type": "code",
   "execution_count": 23,
   "metadata": {},
   "outputs": [],
   "source": [
    "import json\n",
    "import requests\n",
    "\n",
    "import csv\n",
    "import pandas"
   ]
  },
  {
   "cell_type": "markdown",
   "metadata": {},
   "source": [
    "JSON"
   ]
  },
  {
   "cell_type": "code",
   "execution_count": 3,
   "metadata": {},
   "outputs": [],
   "source": [
    "data = {\n",
    "    \"postId\": 1,\n",
    "    \"id\": 5,\n",
    "    \"name\": \"vero eaque aliquid doloribus et culpa\",\n",
    "    \"email\": \"Hayden@althea.biz\",\n",
    "    \"body\": \"harum non quasi et ratione\\ntempore iure ex voluptates in ratione\\nharum architecto fugit inventore cupiditate\\nvoluptates magni quo et\"\n",
    "  }"
   ]
  },
  {
   "cell_type": "markdown",
   "metadata": {},
   "source": [
    "Tworzenie pliku o nazwie data_file.json i otworzenie go w write-mode."
   ]
  },
  {
   "cell_type": "code",
   "execution_count": 4,
   "metadata": {},
   "outputs": [],
   "source": [
    "with open(\"data_file.json\", \"w\") as write_file:\n",
    "    json.dump(data, write_file)\n",
    "    \n"
   ]
  },
  {
   "cell_type": "markdown",
   "metadata": {},
   "source": [
    "Zapisywanie do natywnego obiektu string"
   ]
  },
  {
   "cell_type": "code",
   "execution_count": 7,
   "metadata": {},
   "outputs": [
    {
     "data": {
      "text/plain": [
       "'{\\n    \"postId\": 1,\\n    \"id\": 5,\\n    \"name\": \"vero eaque aliquid doloribus et culpa\",\\n    \"email\": \"Hayden@althea.biz\",\\n    \"body\": \"harum non quasi et ratione\\\\ntempore iure ex voluptates in ratione\\\\nharum architecto fugit inventore cupiditate\\\\nvoluptates magni quo et\"\\n}'"
      ]
     },
     "execution_count": 7,
     "metadata": {},
     "output_type": "execute_result"
    }
   ],
   "source": [
    "json_string = json.dumps(data)\n",
    "\n",
    "json.dumps(data, indent=4)"
   ]
  },
  {
   "cell_type": "markdown",
   "metadata": {},
   "source": [
    "Deserializacja JSON"
   ]
  },
  {
   "cell_type": "code",
   "execution_count": 10,
   "metadata": {},
   "outputs": [
    {
     "name": "stdout",
     "output_type": "stream",
     "text": [
      "False\n",
      "<class 'tuple'>\n",
      "<class 'list'>\n",
      "True\n"
     ]
    }
   ],
   "source": [
    "richest_people = (2, \"Jeff Bezos\")\n",
    "encoded_people = json.dumps(richest_people)\n",
    "decoded_people = json.loads(encoded_people)\n",
    "\n",
    "print(richest_people == decoded_people)\n",
    "print(type(richest_people))\n",
    "print(type(decoded_people))\n",
    "print(richest_people == tuple(decoded_people))"
   ]
  },
  {
   "cell_type": "code",
   "execution_count": 16,
   "metadata": {},
   "outputs": [
    {
     "data": {
      "text/plain": [
       "{'postId': 1,\n",
       " 'id': 5,\n",
       " 'name': 'vero eaque aliquid doloribus et culpa',\n",
       " 'email': 'Hayden@althea.biz',\n",
       " 'body': 'harum non quasi et ratione\\ntempore iure ex voluptates in ratione\\nharum architecto fugit inventore cupiditate\\nvoluptates magni quo et'}"
      ]
     },
     "execution_count": 16,
     "metadata": {},
     "output_type": "execute_result"
    }
   ],
   "source": [
    "with open(\"data_file.json\", \"r\") as read_file:\n",
    "    data = json.load(read_file)\n",
    "    \n",
    "data"
   ]
  },
  {
   "cell_type": "code",
   "execution_count": 18,
   "metadata": {},
   "outputs": [],
   "source": [
    "json_string = \"\"\"\n",
    "{\n",
    "  \"albumId\": 4,\n",
    "  \"id\": 161,\n",
    "  \"title\": \"aliquid aut at sed repudiandae est autem\",\n",
    "  \"url\": \"https://via.placeholder.com/600/739fba\",\n",
    "  \"thumbnailUrl\": \"https://via.placeholder.com/150/739fba\"\n",
    "}\n",
    "\"\"\"\n",
    "\n",
    "data = json.loads(json_string)"
   ]
  },
  {
   "cell_type": "markdown",
   "metadata": {},
   "source": [
    "JSONPlaceholder - requests"
   ]
  },
  {
   "cell_type": "code",
   "execution_count": 69,
   "metadata": {},
   "outputs": [],
   "source": [
    "response = requests.get(\"https://jsonplaceholder.typicode.com/photos\")\n",
    "photos = json.loads(response.text)"
   ]
  },
  {
   "cell_type": "code",
   "execution_count": 81,
   "metadata": {},
   "outputs": [
    {
     "name": "stdout",
     "output_type": "stream",
     "text": [
      "True\n",
      "<class 'list'>\n",
      "[{'albumId': 1, 'id': 1, 'title': 'accusamus beatae ad facilis cum similique qui sunt', 'url': 'https://via.placeholder.com/600/92c952', 'thumbnailUrl': 'https://via.placeholder.com/150/92c952'}, {'albumId': 1, 'id': 2, 'title': 'reprehenderit est deserunt velit ipsam', 'url': 'https://via.placeholder.com/600/771796', 'thumbnailUrl': 'https://via.placeholder.com/150/771796'}, {'albumId': 1, 'id': 3, 'title': 'officia porro iure quia iusto qui ipsa ut modi', 'url': 'https://via.placeholder.com/600/24f355', 'thumbnailUrl': 'https://via.placeholder.com/150/24f355'}, {'albumId': 1, 'id': 4, 'title': 'culpa odio esse rerum omnis laboriosam voluptate repudiandae', 'url': 'https://via.placeholder.com/600/d32776', 'thumbnailUrl': 'https://via.placeholder.com/150/d32776'}, {'albumId': 1, 'id': 5, 'title': 'natus nisi omnis corporis facere molestiae rerum in', 'url': 'https://via.placeholder.com/600/f66b97', 'thumbnailUrl': 'https://via.placeholder.com/150/f66b97'}, {'albumId': 1, 'id': 6, 'title': 'accusamus ea aliquid et amet sequi nemo', 'url': 'https://via.placeholder.com/600/56a8c2', 'thumbnailUrl': 'https://via.placeholder.com/150/56a8c2'}, {'albumId': 1, 'id': 7, 'title': 'officia delectus consequatur vero aut veniam explicabo molestias', 'url': 'https://via.placeholder.com/600/b0f7cc', 'thumbnailUrl': 'https://via.placeholder.com/150/b0f7cc'}, {'albumId': 1, 'id': 8, 'title': 'aut porro officiis laborum odit ea laudantium corporis', 'url': 'https://via.placeholder.com/600/54176f', 'thumbnailUrl': 'https://via.placeholder.com/150/54176f'}, {'albumId': 1, 'id': 9, 'title': 'qui eius qui autem sed', 'url': 'https://via.placeholder.com/600/51aa97', 'thumbnailUrl': 'https://via.placeholder.com/150/51aa97'}, {'albumId': 1, 'id': 10, 'title': 'beatae et provident et ut vel', 'url': 'https://via.placeholder.com/600/810b14', 'thumbnailUrl': 'https://via.placeholder.com/150/810b14'}]\n"
     ]
    }
   ],
   "source": [
    "print(photos == response.json())\n",
    "print(type(photos))\n",
    "print(photos[:10])"
   ]
  },
  {
   "cell_type": "code",
   "execution_count": 88,
   "metadata": {
    "scrolled": true
   },
   "outputs": [
    {
     "name": "stdout",
     "output_type": "stream",
     "text": [
      "{1: 80, 2: 63, 3: 70, 4: 74, 5: 80, 6: 74, 7: 73, 8: 74, 9: 81, 10: 70, 11: 72, 12: 70, 13: 67, 14: 86, 15: 76, 16: 81, 17: 76, 18: 66, 19: 81, 20: 72, 21: 84, 22: 74, 23: 74, 24: 68, 25: 63, 26: 70, 27: 69, 28: 81, 29: 69, 30: 71, 31: 78, 32: 72, 33: 72, 34: 84, 35: 66, 36: 71, 37: 78, 38: 72, 39: 81, 40: 82, 41: 74, 42: 66, 43: 73, 44: 74, 45: 69, 46: 82, 47: 76, 48: 78, 49: 69, 50: 71, 51: 74, 52: 77, 53: 80, 54: 78, 55: 70, 56: 66, 57: 70, 58: 67, 59: 76, 60: 68, 61: 68, 62: 78, 63: 82, 64: 79, 65: 83, 66: 69, 67: 67, 68: 74, 69: 72, 70: 67, 71: 65, 72: 80, 73: 69, 74: 77, 75: 66, 76: 70, 77: 69, 78: 70, 79: 75, 80: 70, 81: 69, 82: 70, 83: 68, 84: 71, 85: 73, 86: 80, 87: 68, 88: 79, 89: 76, 90: 64, 91: 81, 92: 67, 93: 75, 94: 77, 95: 72, 96: 75, 97: 73, 98: 67, 99: 85, 100: 78}\n",
      "[(14, 86), (99, 85), (21, 84), (34, 84), (65, 83), (40, 82), (46, 82), (63, 82), (9, 81), (16, 81), (19, 81), (28, 81), (39, 81), (91, 81), (1, 80), (5, 80), (53, 80), (72, 80), (86, 80), (64, 79), (88, 79), (31, 78), (37, 78), (48, 78), (54, 78), (62, 78), (100, 78), (52, 77), (74, 77), (94, 77), (15, 76), (17, 76), (47, 76), (59, 76), (89, 76), (79, 75), (93, 75), (96, 75), (4, 74), (6, 74), (8, 74), (22, 74), (23, 74), (41, 74), (44, 74), (51, 74), (68, 74), (7, 73), (43, 73), (85, 73), (97, 73), (11, 72), (20, 72), (32, 72), (33, 72), (38, 72), (69, 72), (95, 72), (30, 71), (36, 71), (50, 71), (84, 71), (3, 70), (10, 70), (12, 70), (26, 70), (55, 70), (57, 70), (76, 70), (78, 70), (80, 70), (82, 70), (27, 69), (29, 69), (45, 69), (49, 69), (66, 69), (73, 69), (77, 69), (81, 69), (24, 68), (60, 68), (61, 68), (83, 68), (87, 68), (13, 67), (58, 67), (67, 67), (70, 67), (92, 67), (98, 67), (18, 66), (35, 66), (42, 66), (56, 66), (75, 66), (71, 65), (90, 64), (2, 63), (25, 63)]\n",
      "In album 14 we have longest title with 86 signs\n"
     ]
    }
   ],
   "source": [
    "photos_by_album={}\n",
    "\n",
    "#The longest title in album\n",
    "for photo in photos:\n",
    "    try:\n",
    "        if len(photo[\"title\"])> photos_by_album[photo[\"albumId\"]]:\n",
    "            photos_by_album[photo[\"albumId\"]]=len(photo[\"title\"])\n",
    "    except KeyError:\n",
    "            photos_by_album[photo[\"albumId\"]]=len(photo[\"title\"])\n",
    "            \n",
    "longest_title = sorted(photos_by_album.items(),\n",
    "                      key=lambda x:x[1], reverse=True)\n",
    "print(photos_by_album)\n",
    "print(longest_title)\n",
    "\n",
    "album_longest_titile=[]\n",
    "for title in longest_title:\n",
    "    if longest_title[0][1]>title[1]:\n",
    "        break\n",
    "    album_longest_titile.append(str(title[0]))\n",
    "\n",
    "title_string = \" and \".join(album_longest_titile)\n",
    "s = \"s\" if len(album_longest_titile)>1 else \"\"\n",
    "print(f'In album{s} {title_string} we have longest title with {longest_title[0][1]} signs')"
   ]
  },
  {
   "cell_type": "code",
   "execution_count": 94,
   "metadata": {},
   "outputs": [],
   "source": [
    "albums = longest_title[:10]\n",
    "\n",
    "def keep(photo):\n",
    "    max_counter = False\n",
    "    for album in albums:\n",
    "        if album[1] == len(photo[\"title\"]) and photo[\"albumId\"] == album[0]:\n",
    "            max_counter = True\n",
    "    return max_counter"
   ]
  },
  {
   "cell_type": "code",
   "execution_count": 95,
   "metadata": {},
   "outputs": [],
   "source": [
    "with open(\"filtered_data_file.json\",\"w\") as data_file:\n",
    "    filtered_photos = list(filter(keep,photos))\n",
    "    json.dump(filtered_photos,data_file,indent=2)"
   ]
  },
  {
   "cell_type": "markdown",
   "metadata": {},
   "source": [
    "Encoding and Decoding Custom Python Objects"
   ]
  },
  {
   "cell_type": "code",
   "execution_count": 100,
   "metadata": {},
   "outputs": [],
   "source": [
    "class Elf:\n",
    "    def __init__(self, level, ability_scores=None):\n",
    "        self.level = level\n",
    "        self.ability_scores = {\n",
    "            \"str\": 11, \"dex\": 12, \"con\": 10,\n",
    "            \"int\": 16, \"wis\": 14, \"cha\": 13\n",
    "        } if ability_scores is None else ability_scores\n",
    "        self.hp = 10 + self.ability_scores[\"con\"]"
   ]
  },
  {
   "cell_type": "code",
   "execution_count": 106,
   "metadata": {},
   "outputs": [
    {
     "name": "stdout",
     "output_type": "stream",
     "text": [
      "<class 'list'>\n"
     ]
    },
    {
     "data": {
      "text/plain": [
       "[(42+36j), (64+11j)]"
      ]
     },
     "execution_count": 106,
     "metadata": {},
     "output_type": "execute_result"
    }
   ],
   "source": [
    "def decode_complex(dct):\n",
    "    if \"__complex__\" in dct:\n",
    "        return complex(dct[\"real\"], dct[\"imag\"])\n",
    "    return dct\n",
    "\n",
    "with open(\"complex_json.json\") as complex_data:\n",
    "    data=complex_data.read()\n",
    "    numbers=json.loads(data, object_hook=decode_complex)\n",
    "\n",
    "print(type(numbers))\n",
    "numbers"
   ]
  },
  {
   "cell_type": "markdown",
   "metadata": {},
   "source": [
    "CSV"
   ]
  },
  {
   "cell_type": "code",
   "execution_count": 9,
   "metadata": {},
   "outputs": [
    {
     "name": "stdout",
     "output_type": "stream",
     "text": [
      "Column names are amount,  ingredients\n",
      "\t 500 g  miÄ™sa wieprzowego\n",
      "\t 200 g  kieĹ‚basy\n",
      "\t 1  cebula\n",
      "\t 2  Ĺ‚yĹĽki oleju roĹ›linnego\n",
      "\t 3  szklanki bulionu lub wody\n",
      "\t 30 g  suszonych borowikĂłw\n",
      "\t 2 Ĺ‚yĹĽki  powideĹ‚ Ĺ›liwkowych lub kilka suszonych Ĺ›liwek\n",
      "\t 1  jabĹ‚ko (np. reneta lub antonĂłwka) - opcjonalnie\n",
      "\t 1 kg  kiszonej kapusty\n",
      "\t 1 Ĺ‚yĹĽka  koncentratu pomidorowego\n",
      "\t 1 Ĺ‚yĹĽka  mÄ…ki\n",
      "\t 1 Ĺ‚yĹĽka  masĹ‚a\n",
      "Processed 13 lines.\n"
     ]
    }
   ],
   "source": [
    "with open('bigos_recipe.txt') as csv_file:\n",
    "    csv_reader = csv.reader(csv_file, delimiter=',')\n",
    "    line_count = 0\n",
    "    for row in csv_reader:\n",
    "        if line_count == 0:\n",
    "            print(f'Column names are {\", \".join(row)}')\n",
    "            line_count += 1\n",
    "        else:\n",
    "            print(f'\\t {row[0]} {row[1]}')\n",
    "            line_count += 1\n",
    "    print(f'Processed {line_count} lines.')"
   ]
  },
  {
   "cell_type": "code",
   "execution_count": 16,
   "metadata": {},
   "outputs": [
    {
     "name": "stdout",
     "output_type": "stream",
     "text": [
      "Column names are amount, ingredients\n",
      "\t Ilość: 500 g Składnik:  miÄ™sa wieprzowego.\n",
      "\t Ilość: 200 g Składnik:  kieĹ‚basy.\n",
      "\t Ilość: 1 Składnik:  cebula.\n",
      "\t Ilość: 2 Składnik:  Ĺ‚yĹĽki oleju roĹ›linnego.\n",
      "\t Ilość: 3 Składnik:  szklanki bulionu lub wody.\n",
      "\t Ilość: 30 g Składnik:  suszonych borowikĂłw.\n",
      "\t Ilość: 2 Ĺ‚yĹĽki Składnik:  powideĹ‚ Ĺ›liwkowych lub kilka suszonych Ĺ›liwek.\n",
      "\t Ilość: 1 Składnik:  jabĹ‚ko (np. reneta lub antonĂłwka) - opcjonalnie.\n",
      "\t Ilość: 1 kg Składnik:  kiszonej kapusty.\n",
      "\t Ilość: 1 Ĺ‚yĹĽka Składnik:  koncentratu pomidorowego.\n",
      "\t Ilość: 1 Ĺ‚yĹĽka Składnik:  mÄ…ki.\n",
      "\t Ilość: 1 Ĺ‚yĹĽka Składnik:  masĹ‚a.\n",
      "Processed 13 lines.\n"
     ]
    }
   ],
   "source": [
    "with open('bigos_recipe.txt', mode='r') as csv_file:\n",
    "    csv_reader = csv.DictReader(csv_file)\n",
    "    line_count = 0\n",
    "    for row in csv_reader:\n",
    "        if line_count == 0:\n",
    "            print(f'Column names are {\", \".join(row)}')\n",
    "            line_count += 1\n",
    "        print(f'\\t Ilość: {row[\"amount\"]} Składnik: {row[\"ingredients\"]}.')\n",
    "        line_count += 1\n",
    "    print(f'Processed {line_count} lines.')"
   ]
  },
  {
   "cell_type": "code",
   "execution_count": 21,
   "metadata": {},
   "outputs": [],
   "source": [
    "with open('bigos_recipe.csv', mode='w') as bigos_recipe:\n",
    "    employee_writer = csv.writer(bigos_recipe, delimiter=',', quotechar='\"', quoting=csv.QUOTE_MINIMAL)\n",
    "\n",
    "    employee_writer.writerow(['2 łyżki','powideł śliwkowych lub kilka suszonych śliwek'])\n",
    "    employee_writer.writerow(['1','jabłko (np. reneta lub antonówka) - opcjonalnie'])"
   ]
  },
  {
   "cell_type": "code",
   "execution_count": 32,
   "metadata": {},
   "outputs": [],
   "source": [
    "with open('bigos_recipe_2.csv', mode='w') as csv_file:\n",
    "    fieldnames = ['amount', 'ingredients', 'optional']\n",
    "    writer = csv.DictWriter(csv_file, fieldnames=fieldnames)\n",
    "\n",
    "    writer.writeheader()\n",
    "    writer.writerow({'amount': '500 g', 'ingredients': 'miesa wieprzowego', 'optional': 'false'})\n",
    "    writer.writerow({'amount': '1', 'ingredients': 'jablko (np. reneta lub antonowka)', 'optional': 'true'})"
   ]
  },
  {
   "cell_type": "code",
   "execution_count": 47,
   "metadata": {},
   "outputs": [
    {
     "name": "stdout",
     "output_type": "stream",
     "text": [
      "     amount                                     ingredients  optional\n",
      "0     500 g                               miesa wieprzowego     False\n",
      "1     200 g                                        kielbasy     False\n",
      "2         1                                          cebula     False\n",
      "3         2                          lyzki oleju roslinnego     False\n",
      "4         3                       szklanki bulionu lub wody     False\n",
      "5      30 g                             suszonych borowikow      True\n",
      "6   2 lyzki   powidel sliwkowych lub kilka suszonych sliwek      True\n",
      "7         1                                          jablko      True\n",
      "8      1 kg                                kiszonej kapusty     False\n",
      "9   1 łyżka                        koncentratu pomidorowego      True\n",
      "10  1 łyżka                                            maki      True\n",
      "11  1 łyżka                                           masla      True\n"
     ]
    }
   ],
   "source": [
    "df = pandas.read_csv('bigos_recipe_3.csv')\n",
    "print(df)"
   ]
  },
  {
   "cell_type": "code",
   "execution_count": 46,
   "metadata": {},
   "outputs": [
    {
     "name": "stdout",
     "output_type": "stream",
     "text": [
      "           amount                                     ingredients\n",
      "optional                                                         \n",
      "False       500 g                               miesa wieprzowego\n",
      "False       200 g                                        kielbasy\n",
      "False           1                                          cebula\n",
      "False           2                          lyzki oleju roslinnego\n",
      "False           3                       szklanki bulionu lub wody\n",
      "True         30 g                             suszonych borowikow\n",
      "True      2 lyzki   powidel sliwkowych lub kilka suszonych sliwek\n",
      "True            1                                          jablko\n",
      "False        1 kg                                kiszonej kapusty\n",
      "True      1 łyżka                        koncentratu pomidorowego\n",
      "True      1 łyżka                                            maki\n",
      "True      1 łyżka                                           masla\n"
     ]
    }
   ],
   "source": [
    "df = pandas.read_csv('bigos_recipe_3.csv', index_col='optional')\n",
    "print(df)"
   ]
  },
  {
   "cell_type": "code",
   "execution_count": 51,
   "metadata": {},
   "outputs": [
    {
     "name": "stdout",
     "output_type": "stream",
     "text": [
      "                                            ingredients  optional\n",
      "amount                                                           \n",
      "500 g                                 miesa wieprzowego     False\n",
      "200 g                                          kielbasy     False\n",
      "1                                                cebula     False\n",
      "2                                lyzki oleju roslinnego     False\n",
      "3                             szklanki bulionu lub wody     False\n",
      "30 g                                suszonych borowikow      True\n",
      "2 lyzki   powidel sliwkowych lub kilka suszonych sliwek      True\n",
      "1                                                jablko      True\n",
      "1 kg                                   kiszonej kapusty     False\n",
      "1 łyżka                        koncentratu pomidorowego      True\n",
      "1 łyżka                                            maki      True\n",
      "1 łyżka                                           masla      True\n"
     ]
    }
   ],
   "source": [
    "df = pandas.read_csv('bigos_recipe_3.csv', \n",
    "            index_col='amount', \n",
    "            header=0,\n",
    "            names=['amount', 'ingredients','optional'])\n",
    "print(df)"
   ]
  },
  {
   "cell_type": "code",
   "execution_count": 52,
   "metadata": {},
   "outputs": [],
   "source": [
    "df = pandas.read_csv('bigos_recipe_3.csv', \n",
    "            index_col='amount', \n",
    "            header=0,\n",
    "            names=['amount', 'ingredients','optional'])\n",
    "df.to_csv('bigos_recipe_3_modified.csv')"
   ]
  },
  {
   "cell_type": "code",
   "execution_count": null,
   "metadata": {},
   "outputs": [],
   "source": []
  }
 ],
 "metadata": {
  "kernelspec": {
   "display_name": "Python 3",
   "language": "python",
   "name": "python3"
  },
  "language_info": {
   "codemirror_mode": {
    "name": "ipython",
    "version": 3
   },
   "file_extension": ".py",
   "mimetype": "text/x-python",
   "name": "python",
   "nbconvert_exporter": "python",
   "pygments_lexer": "ipython3",
   "version": "3.9.0"
  }
 },
 "nbformat": 4,
 "nbformat_minor": 4
}
