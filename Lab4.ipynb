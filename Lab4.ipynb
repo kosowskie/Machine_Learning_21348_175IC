{
 "cells": [
  {
   "cell_type": "code",
   "execution_count": 2,
   "metadata": {
    "scrolled": false
   },
   "outputs": [],
   "source": [
    "from openpyxl import Workbook\n",
    "from bs4 import BeautifulSoup\n",
    "import requests\n",
    "import string\n",
    "import random\n",
    "import re"
   ]
  },
  {
   "cell_type": "code",
   "execution_count": 3,
   "metadata": {
    "scrolled": true
   },
   "outputs": [],
   "source": [
    "wb = Workbook()\n",
    "wsGielda = wb.active\n",
    "wsGielda.title = \"Giełda\"\n",
    "wsLinki = wb.create_sheet(\"Linki\")\n",
    "wsFilmweb = wb.create_sheet(\"Filmweb\")"
   ]
  },
  {
   "cell_type": "markdown",
   "metadata": {},
   "source": [
    "Giełda"
   ]
  },
  {
   "cell_type": "code",
   "execution_count": 8,
   "metadata": {
    "scrolled": true
   },
   "outputs": [
    {
     "name": "stdout",
     "output_type": "stream",
     "text": [
      "Created data about companies:\n",
      "Name: rfem.us\n",
      "Course: 65.77\n",
      "Percentage: 0.1485\n",
      "No of Transactions: 12\n",
      "\n",
      "Name: whea.uk\n",
      "Course: 47.865\n",
      "Percentage: 0.315\n",
      "No of Transactions: 32\n",
      "\n",
      "Name: tnlfus.m\n",
      "Course: 108.9\n",
      "Percentage: 81.1\n",
      "No of Transactions: 0\n",
      "\n",
      "Name: jhx.us\n",
      "Course: 29.285\n",
      "Percentage: 0.565\n",
      "No of Transactions: 18\n",
      "\n",
      "Name: wes.us\n",
      "Course: 14.795\n",
      "Percentage: 0.815\n",
      "No of Transactions: 2329\n",
      "\n",
      "Data in the Gielda sheet:\n",
      "Cell:  <Cell 'Giełda'.A1>  Value:  whea.uk\n",
      "Cell:  <Cell 'Giełda'.A2>  Value:  tnlfus.m\n",
      "Cell:  <Cell 'Giełda'.A3>  Value:  jhx.us\n",
      "Cell:  <Cell 'Giełda'.A4>  Value:  wes.us\n",
      "Cell:  <Cell 'Giełda'.A5>  Value:  whea.uk\n",
      "Cell:  <Cell 'Giełda'.B1>  Value:  108.9\n",
      "Cell:  <Cell 'Giełda'.B2>  Value:  29.285\n",
      "Cell:  <Cell 'Giełda'.B3>  Value:  14.795\n",
      "Cell:  <Cell 'Giełda'.B4>  Value:  47.865\n",
      "Cell:  <Cell 'Giełda'.B5>  Value:  108.9\n",
      "Cell:  <Cell 'Giełda'.C1>  Value:  0.565\n",
      "Cell:  <Cell 'Giełda'.C2>  Value:  0.815\n",
      "Cell:  <Cell 'Giełda'.C3>  Value:  0.315\n",
      "Cell:  <Cell 'Giełda'.C4>  Value:  81.1\n",
      "Cell:  <Cell 'Giełda'.C5>  Value:  0.565\n",
      "Cell:  <Cell 'Giełda'.D1>  Value:  2329\n",
      "Cell:  <Cell 'Giełda'.D2>  Value:  32\n",
      "Cell:  <Cell 'Giełda'.D3>  Value:  0\n",
      "Cell:  <Cell 'Giełda'.D4>  Value:  18\n",
      "Cell:  <Cell 'Giełda'.D5>  Value:  2329\n"
     ]
    }
   ],
   "source": [
    "class Company:\n",
    "    def __init__(self, name, course, percentage, transactions):\n",
    "        self.name = name\n",
    "        self.course = course\n",
    "        self.percentage = percentage\n",
    "        self.transactions = transactions\n",
    "    def __str__(self):\n",
    "        return \"Name: \"+self.name\\\n",
    "               +\"\\nCourse: \"+ str(self.course)+\\\n",
    "               \"\\nPercentage: \"+str(self.percentage)+\\\n",
    "               \"\\nNo of Transactions: \"+str(self.transactions)+\"\\n\"\n",
    "\n",
    "\n",
    "def get_text():\n",
    "    str_code = string.ascii_lowercase\n",
    "    result_str = 'q/?s='\n",
    "    new_code = ''.join(random.choice(str_code) for j in range(3))\n",
    "    return result_str + new_code\n",
    "\n",
    "\n",
    "def get_person(text, soup):\n",
    "    ref = soup.find(text=text).parent.find(\"span\")\n",
    "    if ref.text == \"\":\n",
    "        return 0\n",
    "    if text == \"Transakcje\":\n",
    "        return int(ref.text.replace(\" \", \"\"))\n",
    "\n",
    "    return float(ref.text.replace(\" \", \"\"))\n",
    "\n",
    "\n",
    "def find_course(code):\n",
    "    link = \"https://stooq.pl/\" + code\n",
    "    result = requests.get(link)\n",
    "    result_txt = result.text\n",
    "    soup = BeautifulSoup(result_txt, \"html.parser\")\n",
    "    try:\n",
    "        course = get_person(\"Kurs\", soup)\n",
    "        percentage = get_person(\"Zmiana\", soup)\n",
    "        transactions = get_person(\"Transakcje\", soup)\n",
    "        name = code.split('=')[1]\n",
    "        return Company(name, course, percentage, transactions)\n",
    "\n",
    "    except AttributeError:\n",
    "        try:\n",
    "            link = soup.find(id=\"f16\").parent.find('a', href=True)\n",
    "            if link.text == 'symbol waloru':\n",
    "                link = get_text()\n",
    "            else:\n",
    "                link = link.get('href')\n",
    "\n",
    "            return find_course(link)\n",
    "\n",
    "        except AttributeError:\n",
    "            return find_course(get_text())\n",
    "\n",
    "\n",
    "def fill_wsGielda(companies):\n",
    "    i = 1\n",
    "    for col in wsGielda.iter_cols(min_row=1, max_col=4, max_row=5):\n",
    "        for cell in col:\n",
    "            if cell.col_idx == 1:\n",
    "                cell.value = companies[i].name\n",
    "            elif cell.col_idx == 2:\n",
    "                cell.value = companies[i].course\n",
    "            elif cell.col_idx == 3:\n",
    "                cell.value = companies[i].percentage\n",
    "            elif cell.col_idx == 4:\n",
    "                cell.value = companies[i].transactions\n",
    "            i += 1\n",
    "            if i == 5:\n",
    "                i = 1\n",
    "\n",
    "\n",
    "def print_from_gielda():\n",
    "    for col in wsGielda.iter_cols(min_row=1, max_col=4, max_row=5):\n",
    "        for cell in col:\n",
    "            print(\"Cell: \",cell,\" Value: \",cell.value)\n",
    "\n",
    "\n",
    "def gielda():\n",
    "    companies = []\n",
    "    for i in range(5):\n",
    "        companies.append(find_course(get_text()))\n",
    "    print(\"Created data about companies:\")\n",
    "    for company in companies:\n",
    "        print(company)\n",
    "    fill_wsGielda(companies)\n",
    "    print(\"Data in the Gielda sheet:\")\n",
    "    print_from_gielda()\n",
    "gielda()"
   ]
  },
  {
   "cell_type": "markdown",
   "metadata": {},
   "source": [
    "Linki"
   ]
  },
  {
   "cell_type": "code",
   "execution_count": 10,
   "metadata": {},
   "outputs": [
    {
     "name": "stdout",
     "output_type": "stream",
     "text": [
      "Data in the Links sheet: \n",
      "Cell:  <Cell 'Linki'.A1>  Value:  https://www.youtube.com/about/\n",
      "Cell:  <Cell 'Linki'.A2>  Value:  https://www.youtube.com/about/press/\n",
      "Cell:  <Cell 'Linki'.A3>  Value:  https://www.youtube.com/about/copyright/\n",
      "Cell:  <Cell 'Linki'.A4>  Value:  https://www.youtube.com/t/contact_us\n",
      "Cell:  <Cell 'Linki'.A5>  Value:  https://www.youtube.com/creators/\n",
      "Cell:  <Cell 'Linki'.A6>  Value:  https://www.youtube.com/ads/\n",
      "Cell:  <Cell 'Linki'.A7>  Value:  https://www.youtube.comhttps://developers.google.com/youtube\n",
      "Cell:  <Cell 'Linki'.A8>  Value:  https://www.youtube.com/t/terms\n",
      "Cell:  <Cell 'Linki'.A9>  Value:  https://www.youtube.comhttps://www.google.pl/intl/pl/policies/privacy/\n",
      "Cell:  <Cell 'Linki'.A10>  Value:  https://www.youtube.com/about/policies/\n",
      "Cell:  <Cell 'Linki'.A11>  Value:  https://www.youtube.com/howyoutubeworks?utm_campaign=ytgen&utm_source=ythp&utm_medium=LeftNav&utm_content=txt&u=https%3A%2F%2Fwww.youtube.com%2Fhowyoutubeworks%3Futm_source%3Dythp%26utm_medium%3DLeftNav%26utm_campaign%3Dytgen\n",
      "Cell:  <Cell 'Linki'.A12>  Value:  https://www.youtube.com/new\n"
     ]
    }
   ],
   "source": [
    "url = \"https://www.youtube.com/\"\n",
    "result = requests.get(url)\n",
    "result_txt = result.text\n",
    "soup = BeautifulSoup(result_txt, \"html.parser\")\n",
    "ref_list = soup.find_all('a', href=True)\n",
    "link_list = []\n",
    "for element in ref_list:\n",
    "   link = element.get(\"href\")\n",
    "   if url not in link:\n",
    "       link = \"https://www.youtube.com\" + link\n",
    "   link_list.append(link)\n",
    "i = 0\n",
    "for row in wsLinki.iter_rows(min_row=1, max_row=len(link_list)):\n",
    "   for cell in row:\n",
    "       cell.value = link_list[i]\n",
    "       i += 1\n",
    "print(\"Data in the Links sheet: \")\n",
    "for row in wsLinki.iter_rows(min_row=1, max_row=len(link_list)):\n",
    "   for cell in row:\n",
    "       print(\"Cell: \",cell,\" Value: \",cell.value)"
   ]
  },
  {
   "cell_type": "markdown",
   "metadata": {},
   "source": [
    "Filmweb"
   ]
  },
  {
   "cell_type": "code",
   "execution_count": 12,
   "metadata": {},
   "outputs": [
    {
     "name": "stdout",
     "output_type": "stream",
     "text": [
      "Data in the Filmweb sheet\n",
      "Cell:  <Cell 'Filmweb'.A1>  Value:  Srdjan Spasojević\n",
      "Cell:  <Cell 'Filmweb'.A2>  Value:  15 marca 2010 (świat)\n",
      "Cell:  <Cell 'Filmweb'.A3>  Value:  25005\n",
      "Cell:  <Cell 'Filmweb'.A4>  Value:  4.626794815063477\n"
     ]
    }
   ],
   "source": [
    "url = \"https://www.filmweb.pl/film/Srpski+film-2010-497153\"\n",
    "result = requests.get(url)\n",
    "result_txt = result.text\n",
    "soup = BeautifulSoup(result_txt, \"html.parser\")\n",
    "wsFilmweb['A1'] = soup.find(itemprop=\"director\").text.strip()\n",
    "wsFilmweb['A2'] = soup.find(\"span\", {\"class\": \"block\"}).text.strip()\n",
    "wsFilmweb['A3'] = soup.find(\"div\", {\"class\": \"filmRating filmRating--hasPanel\"}).attrs.get(\"data-count\")\n",
    "wsFilmweb['A4'] = soup.find(\"div\", {\"class\": \"filmRating filmRating--hasPanel\"}).attrs.get(\"data-rate\")\n",
    "print(\"Data in the Filmweb sheet\")\n",
    "for row in wsFilmweb.iter_rows(min_row=1, max_row=4):\n",
    "   for cell in row:\n",
    "       print(\"Cell: \",cell,\" Value: \",cell.value)"
   ]
  },
  {
   "cell_type": "markdown",
   "metadata": {},
   "source": [
    "Zapisz plik z wynikami trzech zadań w formie ‘nazwisko-grupa.xlsx’."
   ]
  },
  {
   "cell_type": "code",
   "execution_count": 14,
   "metadata": {},
   "outputs": [],
   "source": [
    "wb.save('Kosowski-175ICB1.xlsx')"
   ]
  },
  {
   "cell_type": "code",
   "execution_count": null,
   "metadata": {},
   "outputs": [],
   "source": []
  }
 ],
 "metadata": {
  "kernelspec": {
   "display_name": "Python 3",
   "language": "python",
   "name": "python3"
  },
  "language_info": {
   "codemirror_mode": {
    "name": "ipython",
    "version": 3
   },
   "file_extension": ".py",
   "mimetype": "text/x-python",
   "name": "python",
   "nbconvert_exporter": "python",
   "pygments_lexer": "ipython3",
   "version": "3.7.4"
  }
 },
 "nbformat": 4,
 "nbformat_minor": 4
}
